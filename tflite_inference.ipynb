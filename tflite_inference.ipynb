{
  "nbformat": 4,
  "nbformat_minor": 0,
  "metadata": {
    "colab": {
      "name": "tflite_trial.ipynb",
      "provenance": [],
      "collapsed_sections": []
    },
    "kernelspec": {
      "name": "python3",
      "display_name": "Python 3"
    }
  },
  "cells": [
    {
      "cell_type": "code",
      "metadata": {
        "id": "3UQgsLlxKPZD",
        "colab_type": "code",
        "colab": {}
      },
      "source": [
        "import numpy as np\n",
        "import matplotlib.pyplot as plt\n",
        "import tensorflow as tf\n",
        "from tensorflow import lite\n",
        "from PIL import Image"
      ],
      "execution_count": 0,
      "outputs": []
    },
    {
      "cell_type": "code",
      "metadata": {
        "id": "HkB4SGYwOEZo",
        "colab_type": "code",
        "colab": {}
      },
      "source": [
        "img = Image.open(\"/content/drive/My Drive/Colab Notebooks/258_project_personal/sign_language/test/258.jpg\")"
      ],
      "execution_count": 0,
      "outputs": []
    },
    {
      "cell_type": "code",
      "metadata": {
        "id": "ZblaBsoLKa6G",
        "colab_type": "code",
        "colab": {}
      },
      "source": [
        "interpreter = lite.Interpreter(\"/content/drive/My Drive/Colab Notebooks/258_project_personal/saved_models/mobilenet.tflite\")\n",
        "interpreter.allocate_tensors()"
      ],
      "execution_count": 0,
      "outputs": []
    },
    {
      "cell_type": "code",
      "metadata": {
        "id": "a7Ao14csKbkO",
        "colab_type": "code",
        "colab": {}
      },
      "source": [
        "# Get input and output tensors.\n",
        "input_details = interpreter.get_input_details()\n",
        "output_details = interpreter.get_output_details()"
      ],
      "execution_count": 0,
      "outputs": []
    },
    {
      "cell_type": "code",
      "metadata": {
        "id": "mQ1UCPV-KdoQ",
        "colab_type": "code",
        "colab": {}
      },
      "source": [
        "# Test model on random input data.\n",
        "input_shape = input_details[0]['shape']\n",
        "input_data = (np.float32(img) / 255).reshape(1,64,64,1)\n",
        "input_data = tf.convert_to_tensor(input_data, np.float32)\n",
        "interpreter.set_tensor(input_details[0]['index'], input_data)"
      ],
      "execution_count": 0,
      "outputs": []
    },
    {
      "cell_type": "code",
      "metadata": {
        "id": "uc8JA4TEKd4-",
        "colab_type": "code",
        "colab": {}
      },
      "source": [
        "interpreter.invoke()"
      ],
      "execution_count": 0,
      "outputs": []
    },
    {
      "cell_type": "code",
      "metadata": {
        "id": "qkGiW7cgQg3h",
        "colab_type": "code",
        "colab": {
          "base_uri": "https://localhost:8080/",
          "height": 51
        },
        "outputId": "53431a66-b510-4f8e-abfb-2d91e296c91a"
      },
      "source": [
        "output_data = interpreter.get_tensor(output_details[0]['index'])\n",
        "print(output_data)"
      ],
      "execution_count": 7,
      "outputs": [
        {
          "output_type": "stream",
          "text": [
            "[[2.6527189e-08 4.4162855e-02 3.3086036e-07 1.9834156e-06 1.7126490e-08\n",
            "  1.5372700e-06 3.9207917e-09 1.1200069e-06 1.4149279e-03 9.5441723e-01]]\n"
          ],
          "name": "stdout"
        }
      ]
    },
    {
      "cell_type": "code",
      "metadata": {
        "id": "Vrre9-RgRbDQ",
        "colab_type": "code",
        "colab": {
          "base_uri": "https://localhost:8080/",
          "height": 285
        },
        "outputId": "1e4dd86d-f050-4304-cd86-bfc67d78cb3f"
      },
      "source": [
        "plt.imshow(img,cmap='gray')\n",
        "print('Predicted Hand Sign:',np.argmax(output_data))"
      ],
      "execution_count": 8,
      "outputs": [
        {
          "output_type": "stream",
          "text": [
            "Predicted Hand Sign: 9\n"
          ],
          "name": "stdout"
        },
        {
          "output_type": "display_data",
          "data": {
            "image/png": "[encoded data removed]",
            "text/plain": [
              "<Figure size 432x288 with 1 Axes>"
            ]
          },
          "metadata": {
            "tags": [],
            "needs_background": "light"
          }
        }
      ]
    },
    {
      "cell_type": "code",
      "metadata": {
        "id": "G_3gQJEZRkil",
        "colab_type": "code",
        "colab": {}
      },
      "source": [
        ""
      ],
      "execution_count": 0,
      "outputs": []
    }
  ]
}