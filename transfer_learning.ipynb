{
  "nbformat": 4,
  "nbformat_minor": 0,
  "metadata": {
    "colab": {
      "name": "hand_id_train.ipynb",
      "provenance": [],
      "collapsed_sections": [
        "NbEG6QW0bJ0B",
        "7n8nSSytLq3q",
        "xO_23C_JoO4c",
        "gwxVusIs125S",
        "E1RwqHwvVatE"
      ]
    },
    "kernelspec": {
      "name": "python3",
      "display_name": "Python 3"
    }
  },
  "cells": [
    {
      "cell_type": "markdown",
      "metadata": {
        "id": "QtsI5Syehv6U",
        "colab_type": "text"
      },
      "source": [
        "# Data Loading and Preperation"
      ]
    },
    {
      "cell_type": "markdown",
      "metadata": {
        "id": "-UG1smNjjqV4",
        "colab_type": "text"
      },
      "source": [
        "Hard coded directory pathways, search and replace: /content/drive/My Drive/Colab Notebooks/258_project_personal/"
      ]
    },
    {
      "cell_type": "code",
      "metadata": {
        "id": "PUfrYTrk3Kkf",
        "colab_type": "code",
        "colab": {}
      },
      "source": [
        "import pandas as pd\n",
        "import numpy as np\n",
        "import matplotlib.pyplot as plt\n",
        "from sklearn.model_selection import train_test_split\n",
        "from PIL import Image"
      ],
      "execution_count": 0,
      "outputs": []
    },
    {
      "cell_type": "markdown",
      "metadata": {
        "id": "8c5bTGi-jGqh",
        "colab_type": "text"
      },
      "source": [
        "### Read the data labels and convert it into one hot labels"
      ]
    },
    {
      "cell_type": "code",
      "metadata": {
        "id": "Cco-ekq63wpl",
        "colab_type": "code",
        "colab": {}
      },
      "source": [
        "# Read Data Labels\n",
        "hand_train = pd.read_csv('/content/drive/My Drive/Colab Notebooks/258_project_personal/sign_language/train.csv', header = 0)"
      ],
      "execution_count": 0,
      "outputs": []
    },
    {
      "cell_type": "code",
      "metadata": {
        "id": "kQxKP3wXHhnO",
        "colab_type": "code",
        "colab": {}
      },
      "source": [
        "train_label = hand_train['label']"
      ],
      "execution_count": 0,
      "outputs": []
    },
    {
      "cell_type": "code",
      "metadata": {
        "id": "o1xR09wNNht6",
        "colab_type": "code",
        "colab": {}
      },
      "source": [
        "train_label_oh = pd.get_dummies(hand_train['label'])"
      ],
      "execution_count": 0,
      "outputs": []
    },
    {
      "cell_type": "code",
      "metadata": {
        "id": "hDDvOjpFReso",
        "colab_type": "code",
        "colab": {}
      },
      "source": [
        "train_label_oh_np = np.asarray(train_label_oh)"
      ],
      "execution_count": 0,
      "outputs": []
    },
    {
      "cell_type": "markdown",
      "metadata": {
        "id": "5vn2XT5-ixfr",
        "colab_type": "text"
      },
      "source": [
        "### Define a function that reads an image and saves it as an array"
      ]
    },
    {
      "cell_type": "code",
      "metadata": {
        "id": "6IQ-M4StfDt0",
        "colab_type": "code",
        "colab": {}
      },
      "source": [
        "# Most models expect 224x224 image but can accept 192 which is an even upsample from 64x64\n",
        "#TARGET_SIZE = 192\n",
        "#TARGET_SIZE = 64\n",
        "TARGET_SIZE = 224"
      ],
      "execution_count": 0,
      "outputs": []
    },
    {
      "cell_type": "code",
      "metadata": {
        "id": "p9iJrsBJ93NI",
        "colab_type": "code",
        "colab": {}
      },
      "source": [
        "def read_image(image_file):\n",
        "  image_matrix = Image.open(image_file)\n",
        "  width,height = image_matrix.size\n",
        "  normalized_image = np.asarray(image_matrix) / 255\n",
        "  return normalized_image.reshape(width,height,1)"
      ],
      "execution_count": 0,
      "outputs": []
    },
    {
      "cell_type": "code",
      "metadata": {
        "id": "pdCy7J0qoV4b",
        "colab_type": "code",
        "colab": {}
      },
      "source": [
        "def reshape_input_image(image_file):\n",
        "  image_matrix = Image.open(image_file)\n",
        "  image_matrix= image_matrix.resize([TARGET_SIZE,TARGET_SIZE])\n",
        "  normalized_image = np.asarray(image_matrix) / 255\n",
        "  # Repeat the b/w values on all 3 channels\n",
        "  out_image = np.array((normalized_image,normalized_image,normalized_image))\n",
        "  # Channel last for easy visualization\n",
        "  return np.moveaxis(out_image,0,-1)"
      ],
      "execution_count": 0,
      "outputs": []
    },
    {
      "cell_type": "markdown",
      "metadata": {
        "id": "0ZJ7k1lvjBA1",
        "colab_type": "text"
      },
      "source": [
        "### Load the images into an array"
      ]
    },
    {
      "cell_type": "code",
      "metadata": {
        "id": "7Xg9hoqaDq7D",
        "colab_type": "code",
        "outputId": "8fe76270-8e74-4aa9-cfdf-3393a6be9f3f",
        "colab": {
          "base_uri": "https://localhost:8080/",
          "height": 34
        }
      },
      "source": [
        "train_data = np.empty((hand_train.shape[0],TARGET_SIZE,TARGET_SIZE,3))\n",
        "for i in range(len(hand_train)):\n",
        "  train_data[i]= reshape_input_image(\"/content/drive/My Drive/Colab Notebooks/258_project_personal/sign_language/train/{}.jpg\".format(i+1))\n",
        "  print('\\r', 'Loading Data', i+1, '/', len(hand_train), end='')"
      ],
      "execution_count": 9,
      "outputs": [
        {
          "output_type": "stream",
          "text": [
            " Loading Data 1500 / 1500"
          ],
          "name": "stdout"
        }
      ]
    },
    {
      "cell_type": "code",
      "metadata": {
        "id": "UHg5m9ZAjy34",
        "colab_type": "code",
        "outputId": "24d9146e-b571-42ed-d530-337ed95b97a7",
        "colab": {
          "base_uri": "https://localhost:8080/",
          "height": 303
        }
      },
      "source": [
        "plt.imshow(train_data[258])\n",
        "print('Image Label:',train_label[258])\n",
        "print('Onehot Representation of label:',train_label_oh_np[258])"
      ],
      "execution_count": 10,
      "outputs": [
        {
          "output_type": "stream",
          "text": [
            "Image Label: 9\n",
            "Onehot Representation of label: [0 0 0 0 0 0 0 0 0 1]\n"
          ],
          "name": "stdout"
        },
        {
          "output_type": "display_data",
          "data": {
            "image/png": "[encoded data removed]",
            "text/plain": [
              "<Figure size 432x288 with 1 Axes>"
            ]
          },
          "metadata": {
            "tags": [],
            "needs_background": "light"
          }
        }
      ]
    },
    {
      "cell_type": "code",
      "metadata": {
        "id": "Rw8Hidmaopop",
        "colab_type": "code",
        "outputId": "4407cef1-78be-4f68-95a8-f606151e512d",
        "colab": {
          "base_uri": "https://localhost:8080/",
          "height": 34
        }
      },
      "source": [
        "# Input the image with limited reshaping\n",
        "train_data_d = np.empty((hand_train.shape[0],64,64,1))\n",
        "for i in range(len(hand_train)):\n",
        "  train_data_d[i]= read_image(\"/content/drive/My Drive/Colab Notebooks/258_project_personal/sign_language/train/{}.jpg\".format(i+1))\n",
        "  print('\\r', 'Loading Data', i+1, '/', len(hand_train), end='')"
      ],
      "execution_count": 0,
      "outputs": [
        {
          "output_type": "stream",
          "text": [
            " Loading Data 1500 / 1500"
          ],
          "name": "stdout"
        }
      ]
    },
    {
      "cell_type": "code",
      "metadata": {
        "id": "TwHiCO3-6LBq",
        "colab_type": "code",
        "colab": {}
      },
      "source": [
        "plt.imshow(np.squeeze(train_data_d[258]),cmap='gray')\n",
        "print('Image Label:',train_label[258])\n",
        "print('Onehot Representation of label:',train_label_oh_np[258])"
      ],
      "execution_count": 0,
      "outputs": []
    },
    {
      "cell_type": "markdown",
      "metadata": {
        "id": "e8i4lex809yT",
        "colab_type": "text"
      },
      "source": [
        "### Prepare the Test Data"
      ]
    },
    {
      "cell_type": "code",
      "metadata": {
        "id": "WBt_j_Uk8Zih",
        "colab_type": "code",
        "colab": {}
      },
      "source": [
        "# Read Data Labels\n",
        "hand_test = pd.read_csv('/content/drive/My Drive/Colab Notebooks/258_project_personal/sign_language/test.csv', header = 0)"
      ],
      "execution_count": 0,
      "outputs": []
    },
    {
      "cell_type": "markdown",
      "metadata": {
        "id": "6JPICH-mOy-f",
        "colab_type": "text"
      },
      "source": [
        "Test set doesnt have labels, must be manually checked for performance"
      ]
    },
    {
      "cell_type": "code",
      "metadata": {
        "id": "R81Z94kJ1j7N",
        "colab_type": "code",
        "outputId": "8faf15c4-c2f9-4052-8ffc-dfd611903cbc",
        "colab": {
          "base_uri": "https://localhost:8080/",
          "height": 34
        }
      },
      "source": [
        "test_data = np.empty((hand_train.shape[0],TARGET_SIZE,TARGET_SIZE,3))\n",
        "for i in range(len(hand_test)):\n",
        "  test_data[i]= reshape_input_image(\"/content/drive/My Drive/Colab Notebooks/258_project_personal/sign_language/test/{}.jpg\".format(i+1))\n",
        "  print('\\r', 'Loading Data', i+1, '/', len(hand_test), end='')"
      ],
      "execution_count": 13,
      "outputs": [
        {
          "output_type": "stream",
          "text": [
            " Loading Data 562 / 562"
          ],
          "name": "stdout"
        }
      ]
    },
    {
      "cell_type": "code",
      "metadata": {
        "id": "QPuIdEnTpi3x",
        "colab_type": "code",
        "outputId": "9976cfd1-c6cb-4693-db46-fe1cdc4d4754",
        "colab": {
          "base_uri": "https://localhost:8080/",
          "height": 34
        }
      },
      "source": [
        "test_data_d = np.empty((hand_train.shape[0],64,64,1))\n",
        "for i in range(len(hand_test)):\n",
        "  test_data_d[i]= read_image(\"/content/drive/My Drive/Colab Notebooks/258_project_personal/sign_language/test/{}.jpg\".format(i+1))\n",
        "  print('\\r', 'Loading Data', i+1, '/', len(hand_test), end='')"
      ],
      "execution_count": 0,
      "outputs": [
        {
          "output_type": "stream",
          "text": [
            " Loading Data 562 / 562"
          ],
          "name": "stdout"
        }
      ]
    },
    {
      "cell_type": "markdown",
      "metadata": {
        "id": "95BeBR8liTWF",
        "colab_type": "text"
      },
      "source": [
        "## Perform Train Validation Split"
      ]
    },
    {
      "cell_type": "code",
      "metadata": {
        "id": "UKfpMMo1iRiM",
        "colab_type": "code",
        "colab": {}
      },
      "source": [
        "data_train, data_val, label_train, label_val = train_test_split(train_data, train_label_oh_np, test_size = 0.2, random_state = 258, stratify = train_label_oh)"
      ],
      "execution_count": 0,
      "outputs": []
    },
    {
      "cell_type": "code",
      "metadata": {
        "id": "QaqoKx4tidtF",
        "colab_type": "code",
        "colab": {}
      },
      "source": [
        "data_train_d, data_val_d, label_train_d, label_val_d = train_test_split(train_data_d, train_label_oh_np, test_size = 0.2, random_state = 258, stratify = train_label_oh)"
      ],
      "execution_count": 0,
      "outputs": []
    },
    {
      "cell_type": "code",
      "metadata": {
        "id": "3ancv06amV8r",
        "colab_type": "code",
        "outputId": "20ec78b0-248d-4fd2-e72e-bfee61a114dd",
        "colab": {
          "base_uri": "https://localhost:8080/",
          "height": 85
        }
      },
      "source": [
        "print('Train data shape:', data_train.shape)\n",
        "print('Train label shape:', label_train.shape)\n",
        "print('Val data shape:', data_val.shape)\n",
        "print('Val data shape:', label_val.shape)"
      ],
      "execution_count": 18,
      "outputs": [
        {
          "output_type": "stream",
          "text": [
            "Train data shape: (1200, 224, 224, 3)\n",
            "Train label shape: (1200, 10)\n",
            "Val data shape: (300, 224, 224, 3)\n",
            "Val data shape: (300, 10)\n"
          ],
          "name": "stdout"
        }
      ]
    },
    {
      "cell_type": "markdown",
      "metadata": {
        "id": "3WgNQMSZiOWW",
        "colab_type": "text"
      },
      "source": [
        "# Define the Data Generators and Models"
      ]
    },
    {
      "cell_type": "code",
      "metadata": {
        "id": "sNG-bo03iNf8",
        "colab_type": "code",
        "colab": {}
      },
      "source": [
        "import keras\n",
        "from keras import Sequential, applications, layers, losses, callbacks\n",
        "from keras.preprocessing.image import ImageDataGenerator\n",
        "import h5py"
      ],
      "execution_count": 0,
      "outputs": []
    },
    {
      "cell_type": "code",
      "metadata": {
        "id": "qFc0XgvS1Q_o",
        "colab_type": "code",
        "colab": {}
      },
      "source": [
        "# Model Generation Parameters\n",
        "DROPOUT_RATE = 0.6\n",
        "RAND_SEED = 258"
      ],
      "execution_count": 0,
      "outputs": []
    },
    {
      "cell_type": "markdown",
      "metadata": {
        "id": "nhkhqzikoLc0",
        "colab_type": "text"
      },
      "source": [
        "## Mobilenet V2"
      ]
    },
    {
      "cell_type": "markdown",
      "metadata": {
        "id": "mf8BVqZgLUCP",
        "colab_type": "text"
      },
      "source": [
        "##### Default Setup for Mobilenet Transfer Learning with Dropout Layer"
      ]
    },
    {
      "cell_type": "code",
      "metadata": {
        "id": "32Bw-TXSCViP",
        "colab_type": "code",
        "outputId": "88f4dc85-dcfe-4503-ee01-fedbb918bb5a",
        "colab": {
          "base_uri": "https://localhost:8080/",
          "height": 71
        }
      },
      "source": [
        "# Utilize Sequential for predict_classes function\n",
        "mobilenet_v2 = Sequential()\n",
        "mobilenet_v2.add(layers.UpSampling3D(size=(3,3,3), input_shape = (64,64,1)))\n",
        "mobilenet_v2.add(applications.MobileNetV2(input_shape = (TARGET_SIZE,TARGET_SIZE,3), alpha=0.35,\\\n",
        "                                          weights = 'imagenet', include_top = False))\n",
        "mobilenet_v2.add(layers.GlobalAveragePooling2D())\n",
        "mobilenet_v2.add(layers.Dropout(rate = DROPOUT_RATE, seed = RAND_SEED))\n",
        "mobilenet_v2.add(layers.Dense(10, activation='softmax'))"
      ],
      "execution_count": 0,
      "outputs": [
        {
          "output_type": "stream",
          "text": [
            "Downloading data from https://github.com/JonathanCMitchell/mobilenet_v2_keras/releases/download/v1.1/mobilenet_v2_weights_tf_dim_ordering_tf_kernels_0.35_192_no_top.h5\n",
            "2023424/2019640 [==============================] - 0s 0us/step\n"
          ],
          "name": "stdout"
        }
      ]
    },
    {
      "cell_type": "code",
      "metadata": {
        "id": "dQeCcDR7CLnZ",
        "colab_type": "code",
        "outputId": "711e5eac-b62b-4594-dad2-1872507c2477",
        "colab": {
          "base_uri": "https://localhost:8080/",
          "height": 323
        }
      },
      "source": [
        "mobilenet_v2.summary()"
      ],
      "execution_count": 0,
      "outputs": [
        {
          "output_type": "stream",
          "text": [
            "Model: \"sequential_1\"\n",
            "_________________________________________________________________\n",
            "Layer (type)                 Output Shape              Param #   \n",
            "=================================================================\n",
            "up_sampling3d_1 (UpSampling3 (None, 192, 192, 3)       0         \n",
            "_________________________________________________________________\n",
            "mobilenetv2_0.35_192 (Model) (None, 6, 6, 1280)        410208    \n",
            "_________________________________________________________________\n",
            "global_average_pooling2d_1 ( (None, 1280)              0         \n",
            "_________________________________________________________________\n",
            "dropout_1 (Dropout)          (None, 1280)              0         \n",
            "_________________________________________________________________\n",
            "dense_1 (Dense)              (None, 10)                12810     \n",
            "=================================================================\n",
            "Total params: 423,018\n",
            "Trainable params: 408,938\n",
            "Non-trainable params: 14,080\n",
            "_________________________________________________________________\n"
          ],
          "name": "stdout"
        }
      ]
    },
    {
      "cell_type": "markdown",
      "metadata": {
        "id": "xhsrDgkWg3s6",
        "colab_type": "text"
      },
      "source": [
        "##### 3 Channel Input"
      ]
    },
    {
      "cell_type": "code",
      "metadata": {
        "id": "SkF1upulg8tc",
        "colab_type": "code",
        "outputId": "de1179f9-43b8-4cdc-e498-e5db2fb58531",
        "colab": {
          "base_uri": "https://localhost:8080/",
          "height": 71
        }
      },
      "source": [
        "# Utilize Sequential for predict_classes function\n",
        "mobilenet_v2_3ch = Sequential()\n",
        "mobilenet_v2_3ch.add(applications.MobileNetV2(input_shape = (64,64,3), alpha=0.35,\\\n",
        "                                          weights = 'imagenet', include_top = False))\n",
        "mobilenet_v2_3ch.add(layers.GlobalAveragePooling2D())\n",
        "mobilenet_v2_3ch.add(layers.Dropout(rate = DROPOUT_RATE, seed = RAND_SEED))\n",
        "mobilenet_v2_3ch.add(layers.Dense(10, activation='softmax'))"
      ],
      "execution_count": 0,
      "outputs": [
        {
          "output_type": "stream",
          "text": [
            "/usr/local/lib/python3.6/dist-packages/keras_applications/mobilenet_v2.py:294: UserWarning: `input_shape` is undefined or non-square, or `rows` is not in [96, 128, 160, 192, 224]. Weights for input shape (224, 224) will be loaded as the default.\n",
            "  warnings.warn('`input_shape` is undefined or non-square, '\n"
          ],
          "name": "stderr"
        }
      ]
    },
    {
      "cell_type": "code",
      "metadata": {
        "id": "HA-WYxtto75C",
        "colab_type": "code",
        "outputId": "021b68f8-ad96-4860-d4b3-f949c2e0e916",
        "colab": {
          "base_uri": "https://localhost:8080/",
          "height": 71
        }
      },
      "source": [
        "# Utilize Sequential for predict_classes function\n",
        "mobilenet_v2_3ch_spatial = Sequential()\n",
        "mobilenet_v2_3ch_spatial.add(applications.MobileNetV2(input_shape = (64,64,3), alpha=0.35,\\\n",
        "                                          weights = 'imagenet', include_top = False))\n",
        "mobilenet_v2_3ch_spatial.add(layers.SpatialDropout2D(rate = DROPOUT_RATE))\n",
        "mobilenet_v2_3ch_spatial.add(layers.GlobalAveragePooling2D())\n",
        "mobilenet_v2_3ch_spatial.add(layers.Dense(10, activation='softmax'))"
      ],
      "execution_count": 0,
      "outputs": [
        {
          "output_type": "stream",
          "text": [
            "/usr/local/lib/python3.6/dist-packages/keras_applications/mobilenet_v2.py:294: UserWarning: `input_shape` is undefined or non-square, or `rows` is not in [96, 128, 160, 192, 224]. Weights for input shape (224, 224) will be loaded as the default.\n",
            "  warnings.warn('`input_shape` is undefined or non-square, '\n"
          ],
          "name": "stderr"
        }
      ]
    },
    {
      "cell_type": "markdown",
      "metadata": {
        "id": "NfA1uZEt0p7s",
        "colab_type": "text"
      },
      "source": [
        "##### 224 x 3 Net"
      ]
    },
    {
      "cell_type": "code",
      "metadata": {
        "id": "ZPvQU9Y10UDp",
        "colab_type": "code",
        "outputId": "5ffe97a9-45db-41d7-885b-afaebf93504a",
        "colab": {
          "base_uri": "https://localhost:8080/",
          "height": 71
        }
      },
      "source": [
        "# Utilize Sequential for predict_classes function\n",
        "mobilenet_v2 = Sequential()\n",
        "mobilenet_v2.add(applications.MobileNetV2(input_shape = (224,224,3), alpha=0.35,\\\n",
        "                                              include_top = False))\n",
        "mobilenet_v2.add(layers.GlobalAveragePooling2D())\n",
        "mobilenet_v2.add(layers.Dropout(rate = DROPOUT_RATE, seed = RAND_SEED))\n",
        "mobilenet_v2.add(layers.Dense(10, activation='softmax'))"
      ],
      "execution_count": 0,
      "outputs": [
        {
          "output_type": "stream",
          "text": [
            "Downloading data from https://github.com/JonathanCMitchell/mobilenet_v2_keras/releases/download/v1.1/mobilenet_v2_weights_tf_dim_ordering_tf_kernels_0.35_224_no_top.h5\n",
            "2023424/2019640 [==============================] - 0s 0us/step\n"
          ],
          "name": "stdout"
        }
      ]
    },
    {
      "cell_type": "markdown",
      "metadata": {
        "id": "RIfEtuFsLa18",
        "colab_type": "text"
      },
      "source": [
        "##### Default Setup for Mobilenet Transfer Learning with Spatial Dropout Layer"
      ]
    },
    {
      "cell_type": "code",
      "metadata": {
        "id": "BsVdUc3PLSx9",
        "colab_type": "code",
        "colab": {}
      },
      "source": [
        "# Utilize Sequential for predict_classes function\n",
        "mobilenet_v2_spatial = Sequential()\n",
        "mobilenet_v2_spatial.add(layers.UpSampling3D(size=(3,3,3), input_shape = (64,64,1)))\n",
        "mobilenet_v2_spatial.add(applications.MobileNetV2(input_shape = (TARGET_SIZE,TARGET_SIZE,3), alpha=0.35,\\\n",
        "                                          weights = 'imagenet', include_top = False))\n",
        "mobilenet_v2_spatial.add(layers.SpatialDropout2D(rate = DROPOUT_RATE))\n",
        "mobilenet_v2_spatial.add(layers.GlobalAveragePooling2D())\n",
        "mobilenet_v2_spatial.add(layers.Dense(10, activation='softmax'))"
      ],
      "execution_count": 0,
      "outputs": []
    },
    {
      "cell_type": "code",
      "metadata": {
        "id": "0MF1LqSPLpPw",
        "colab_type": "code",
        "outputId": "66b50342-e3bb-4db7-806c-1f3a793205a0",
        "colab": {
          "base_uri": "https://localhost:8080/",
          "height": 323
        }
      },
      "source": [
        "mobilenet_v2_spatial.summary()"
      ],
      "execution_count": 0,
      "outputs": [
        {
          "output_type": "stream",
          "text": [
            "Model: \"sequential_2\"\n",
            "_________________________________________________________________\n",
            "Layer (type)                 Output Shape              Param #   \n",
            "=================================================================\n",
            "up_sampling3d_2 (UpSampling3 (None, 192, 192, 3)       0         \n",
            "_________________________________________________________________\n",
            "mobilenetv2_0.35_192 (Model) (None, 6, 6, 1280)        410208    \n",
            "_________________________________________________________________\n",
            "spatial_dropout2d_1 (Spatial (None, 6, 6, 1280)        0         \n",
            "_________________________________________________________________\n",
            "global_average_pooling2d_2 ( (None, 1280)              0         \n",
            "_________________________________________________________________\n",
            "dense_2 (Dense)              (None, 10)                12810     \n",
            "=================================================================\n",
            "Total params: 423,018\n",
            "Trainable params: 408,938\n",
            "Non-trainable params: 14,080\n",
            "_________________________________________________________________\n"
          ],
          "name": "stdout"
        }
      ]
    },
    {
      "cell_type": "markdown",
      "metadata": {
        "id": "xO_23C_JoO4c",
        "colab_type": "text"
      },
      "source": [
        "## NASNetMobile"
      ]
    },
    {
      "cell_type": "markdown",
      "metadata": {
        "id": "gdQwC8sIt2DX",
        "colab_type": "text"
      },
      "source": [
        "NASNet requires images to be 224x224 meaning different preprocessing/sampling layer required"
      ]
    },
    {
      "cell_type": "markdown",
      "metadata": {
        "id": "WiqZH-pFmHh_",
        "colab_type": "text"
      },
      "source": [
        "##### Default NASNet"
      ]
    },
    {
      "cell_type": "code",
      "metadata": {
        "id": "SAS3fW0ygEP2",
        "colab_type": "code",
        "colab": {
          "base_uri": "https://localhost:8080/"
        },
        "outputId": "ea9d0a5f-d6f8-4fd7-b819-eb91eb6d49df"
      },
      "source": [
        "nasnet_mobile = Sequential()\n",
        "nasnet_mobile.add(applications.nasnet.NASNetMobile(input_shape = (TARGET_SIZE,TARGET_SIZE,3),\\\n",
        "                                                   weights = 'imagenet', include_top = False))\n",
        "nasnet_mobile.add(layers.GlobalAveragePooling2D())\n",
        "nasnet_mobile.add(layers.Dropout(rate = DROPOUT_RATE, seed = RAND_SEED))\n",
        "nasnet_mobile.add(layers.Dense(10, activation='softmax'))"
      ],
      "execution_count": 19,
      "outputs": [
        {
          "output_type": "stream",
          "text": [
            "Downloading data from https://github.com/titu1994/Keras-NASNet/releases/download/v1.2/NASNet-mobile-no-top.h5\n",
            "19996672/19993432 [==============================] - 1s 0us/step\n"
          ],
          "name": "stdout"
        }
      ]
    },
    {
      "cell_type": "code",
      "metadata": {
        "id": "-DR3zkGVgnpu",
        "colab_type": "code",
        "outputId": "ecab50bb-2ca9-4c67-dba5-5ea85d988cee",
        "colab": {
          "base_uri": "https://localhost:8080/",
          "height": 289
        }
      },
      "source": [
        "nasnet_mobile.summary()"
      ],
      "execution_count": 20,
      "outputs": [
        {
          "output_type": "stream",
          "text": [
            "Model: \"sequential_1\"\n",
            "_________________________________________________________________\n",
            "Layer (type)                 Output Shape              Param #   \n",
            "=================================================================\n",
            "NASNet (Model)               (None, 7, 7, 1056)        4269716   \n",
            "_________________________________________________________________\n",
            "global_average_pooling2d_1 ( (None, 1056)              0         \n",
            "_________________________________________________________________\n",
            "dropout_1 (Dropout)          (None, 1056)              0         \n",
            "_________________________________________________________________\n",
            "dense_1 (Dense)              (None, 10)                10570     \n",
            "=================================================================\n",
            "Total params: 4,280,286\n",
            "Trainable params: 4,243,548\n",
            "Non-trainable params: 36,738\n",
            "_________________________________________________________________\n"
          ],
          "name": "stdout"
        }
      ]
    },
    {
      "cell_type": "markdown",
      "metadata": {
        "id": "iBxm-ZVVmKmA",
        "colab_type": "text"
      },
      "source": [
        "##### NASNet with Spatial Dropout"
      ]
    },
    {
      "cell_type": "code",
      "metadata": {
        "id": "AToGQFKMmSKC",
        "colab_type": "code",
        "colab": {}
      },
      "source": [
        "nasnet_mobile_spatial = Sequential()\n",
        "nasnet_mobile_spatial.add(applications.nasnet.NASNetMobile(input_shape = (TARGET_SIZE,TARGET_SIZE,3),\\\n",
        "                                                   weights = 'imagenet', include_top = False))\n",
        "nasnet_mobile_spatial.add(layers.SpatialDropout2D(rate = DROPOUT_RATE))\n",
        "nasnet_mobile_spatial.add(layers.GlobalAveragePooling2D())\n",
        "nasnet_mobile_spatial.add(layers.Dense(10, activation='softmax'))"
      ],
      "execution_count": 0,
      "outputs": []
    },
    {
      "cell_type": "code",
      "metadata": {
        "id": "EykXCvdjma-T",
        "colab_type": "code",
        "colab": {}
      },
      "source": [
        "nasnet_mobile_spatial.summary()"
      ],
      "execution_count": 0,
      "outputs": []
    },
    {
      "cell_type": "markdown",
      "metadata": {
        "id": "RwGhAcJuoX3q",
        "colab_type": "text"
      },
      "source": [
        "## Train the Models"
      ]
    },
    {
      "cell_type": "code",
      "metadata": {
        "id": "QO1sITLYhEsb",
        "colab_type": "code",
        "colab": {}
      },
      "source": [
        "tune_optimizer = 'adam'\n",
        "tune_loss = losses.CategoricalCrossentropy()\n",
        "tune_metrics=['categorical_accuracy']\n",
        "tune_epochs = 75"
      ],
      "execution_count": 0,
      "outputs": []
    },
    {
      "cell_type": "markdown",
      "metadata": {
        "id": "gDElCWPHVU_J",
        "colab_type": "text"
      },
      "source": [
        "### Mobilenet V2 Performance"
      ]
    },
    {
      "cell_type": "markdown",
      "metadata": {
        "id": "JjP7F6Z9hou-",
        "colab_type": "text"
      },
      "source": [
        "##### 3 Channel"
      ]
    },
    {
      "cell_type": "code",
      "metadata": {
        "id": "xp_lvDILhrdO",
        "colab_type": "code",
        "colab": {}
      },
      "source": [
        "mobilenet_3ch_checkpointer = callbacks.ModelCheckpoint(\"/content/drive/My Drive/Colab Notebooks/258_project_personal/saved_models/mobilenet_3ch_weights.{epoch:02d}.hdf5\",\\\n",
        "                                                      verbose=0, save_best_only=True,)\n",
        "mobilenet_v2_3ch.compile(optimizer = tune_optimizer, loss = tune_loss, metrics = tune_metrics)"
      ],
      "execution_count": 0,
      "outputs": []
    },
    {
      "cell_type": "code",
      "metadata": {
        "id": "0YIeOlVUhycg",
        "colab_type": "code",
        "outputId": "e71e1af8-131f-4831-f12d-b1d890c785b2",
        "colab": {
          "base_uri": "https://localhost:8080/",
          "height": 1000
        }
      },
      "source": [
        "mobilenet_3ch_history = mobilenet_v2_3ch.fit(data_train,label_train, batch_size=32,\\\n",
        "                                     validation_data=(data_val,label_val),\\\n",
        "                                     epochs = tune_epochs, callbacks = [mobilenet_3ch_checkpointer])"
      ],
      "execution_count": 0,
      "outputs": [
        {
          "output_type": "stream",
          "text": [
            "Train on 1200 samples, validate on 300 samples\n",
            "Epoch 1/75\n",
            "1200/1200 [==============================] - 23s 19ms/step - loss: 2.4550 - categorical_accuracy: 0.3642 - val_loss: 7.1375 - val_categorical_accuracy: 0.2267\n",
            "Epoch 2/75\n",
            "1200/1200 [==============================] - 11s 9ms/step - loss: 0.9761 - categorical_accuracy: 0.6758 - val_loss: 9.0539 - val_categorical_accuracy: 0.2567\n",
            "Epoch 3/75\n",
            "1200/1200 [==============================] - 11s 9ms/step - loss: 0.5711 - categorical_accuracy: 0.8025 - val_loss: 12.0809 - val_categorical_accuracy: 0.2567\n",
            "Epoch 4/75\n",
            "1200/1200 [==============================] - 11s 9ms/step - loss: 0.4085 - categorical_accuracy: 0.8717 - val_loss: 9.7392 - val_categorical_accuracy: 0.2767\n",
            "Epoch 5/75\n",
            "1200/1200 [==============================] - 11s 9ms/step - loss: 0.2476 - categorical_accuracy: 0.9150 - val_loss: 8.0113 - val_categorical_accuracy: 0.3033\n",
            "Epoch 6/75\n",
            "1200/1200 [==============================] - 12s 10ms/step - loss: 0.2233 - categorical_accuracy: 0.9267 - val_loss: 8.4385 - val_categorical_accuracy: 0.3067\n",
            "Epoch 7/75\n",
            "1200/1200 [==============================] - 11s 9ms/step - loss: 0.1304 - categorical_accuracy: 0.9558 - val_loss: 5.0950 - val_categorical_accuracy: 0.4067\n",
            "Epoch 8/75\n",
            "1200/1200 [==============================] - 11s 9ms/step - loss: 0.1514 - categorical_accuracy: 0.9558 - val_loss: 6.9579 - val_categorical_accuracy: 0.3533\n",
            "Epoch 9/75\n",
            "1200/1200 [==============================] - 11s 9ms/step - loss: 0.1380 - categorical_accuracy: 0.9625 - val_loss: 7.5478 - val_categorical_accuracy: 0.3400\n",
            "Epoch 10/75\n",
            "1200/1200 [==============================] - 11s 9ms/step - loss: 0.1874 - categorical_accuracy: 0.9400 - val_loss: 5.8429 - val_categorical_accuracy: 0.3633\n",
            "Epoch 11/75\n",
            "1200/1200 [==============================] - 11s 9ms/step - loss: 0.0910 - categorical_accuracy: 0.9750 - val_loss: 4.4978 - val_categorical_accuracy: 0.5400\n",
            "Epoch 12/75\n",
            "1200/1200 [==============================] - 11s 9ms/step - loss: 0.1022 - categorical_accuracy: 0.9667 - val_loss: 4.8244 - val_categorical_accuracy: 0.5433\n",
            "Epoch 13/75\n",
            "1200/1200 [==============================] - 11s 9ms/step - loss: 0.1086 - categorical_accuracy: 0.9708 - val_loss: 5.1250 - val_categorical_accuracy: 0.5233\n",
            "Epoch 14/75\n",
            "1200/1200 [==============================] - 11s 9ms/step - loss: 0.1553 - categorical_accuracy: 0.9600 - val_loss: 7.6531 - val_categorical_accuracy: 0.4200\n",
            "Epoch 15/75\n",
            "1200/1200 [==============================] - 11s 9ms/step - loss: 0.1057 - categorical_accuracy: 0.9692 - val_loss: 10.0012 - val_categorical_accuracy: 0.3500\n",
            "Epoch 16/75\n",
            "1200/1200 [==============================] - 11s 9ms/step - loss: 0.1071 - categorical_accuracy: 0.9683 - val_loss: 9.5554 - val_categorical_accuracy: 0.3467\n",
            "Epoch 17/75\n",
            "1200/1200 [==============================] - 11s 9ms/step - loss: 0.1570 - categorical_accuracy: 0.9583 - val_loss: 6.3011 - val_categorical_accuracy: 0.4067\n",
            "Epoch 18/75\n",
            "1200/1200 [==============================] - 11s 9ms/step - loss: 0.0560 - categorical_accuracy: 0.9800 - val_loss: 11.7640 - val_categorical_accuracy: 0.2900\n",
            "Epoch 19/75\n",
            "1200/1200 [==============================] - 11s 9ms/step - loss: 0.1179 - categorical_accuracy: 0.9700 - val_loss: 6.4536 - val_categorical_accuracy: 0.4867\n",
            "Epoch 20/75\n",
            "1200/1200 [==============================] - 11s 9ms/step - loss: 0.1686 - categorical_accuracy: 0.9500 - val_loss: 12.5397 - val_categorical_accuracy: 0.3000\n",
            "Epoch 21/75\n",
            "1200/1200 [==============================] - 11s 9ms/step - loss: 0.1320 - categorical_accuracy: 0.9658 - val_loss: 5.8292 - val_categorical_accuracy: 0.4700\n",
            "Epoch 22/75\n",
            "1200/1200 [==============================] - 11s 9ms/step - loss: 0.0789 - categorical_accuracy: 0.9808 - val_loss: 8.0649 - val_categorical_accuracy: 0.4067\n",
            "Epoch 23/75\n",
            "1200/1200 [==============================] - 11s 9ms/step - loss: 0.1146 - categorical_accuracy: 0.9758 - val_loss: 6.6610 - val_categorical_accuracy: 0.4400\n",
            "Epoch 24/75\n",
            "1200/1200 [==============================] - 11s 9ms/step - loss: 0.0656 - categorical_accuracy: 0.9842 - val_loss: 4.5251 - val_categorical_accuracy: 0.6067\n",
            "Epoch 25/75\n",
            "1200/1200 [==============================] - 11s 9ms/step - loss: 0.0355 - categorical_accuracy: 0.9892 - val_loss: 5.6257 - val_categorical_accuracy: 0.5600\n",
            "Epoch 26/75\n",
            "1200/1200 [==============================] - 11s 9ms/step - loss: 0.0271 - categorical_accuracy: 0.9917 - val_loss: 6.0804 - val_categorical_accuracy: 0.5933\n",
            "Epoch 27/75\n",
            "1200/1200 [==============================] - 11s 9ms/step - loss: 0.0548 - categorical_accuracy: 0.9833 - val_loss: 2.0150 - val_categorical_accuracy: 0.7700\n",
            "Epoch 28/75\n",
            "1200/1200 [==============================] - 11s 9ms/step - loss: 0.0604 - categorical_accuracy: 0.9833 - val_loss: 2.1553 - val_categorical_accuracy: 0.7433\n",
            "Epoch 29/75\n",
            "1200/1200 [==============================] - 11s 9ms/step - loss: 0.0365 - categorical_accuracy: 0.9883 - val_loss: 3.8415 - val_categorical_accuracy: 0.6033\n",
            "Epoch 30/75\n",
            "1200/1200 [==============================] - 11s 9ms/step - loss: 0.0143 - categorical_accuracy: 0.9950 - val_loss: 2.9599 - val_categorical_accuracy: 0.6733\n",
            "Epoch 31/75\n",
            "1200/1200 [==============================] - 11s 9ms/step - loss: 0.0173 - categorical_accuracy: 0.9950 - val_loss: 2.5708 - val_categorical_accuracy: 0.7300\n",
            "Epoch 32/75\n",
            "1200/1200 [==============================] - 11s 9ms/step - loss: 0.0209 - categorical_accuracy: 0.9950 - val_loss: 5.5761 - val_categorical_accuracy: 0.4967\n",
            "Epoch 33/75\n",
            "1200/1200 [==============================] - 11s 9ms/step - loss: 0.0416 - categorical_accuracy: 0.9858 - val_loss: 3.0541 - val_categorical_accuracy: 0.6300\n",
            "Epoch 34/75\n",
            "1200/1200 [==============================] - 11s 9ms/step - loss: 0.0471 - categorical_accuracy: 0.9908 - val_loss: 2.2483 - val_categorical_accuracy: 0.7267\n",
            "Epoch 35/75\n",
            "1200/1200 [==============================] - 11s 9ms/step - loss: 0.0425 - categorical_accuracy: 0.9883 - val_loss: 2.1595 - val_categorical_accuracy: 0.7367\n",
            "Epoch 36/75\n",
            "1200/1200 [==============================] - 11s 9ms/step - loss: 0.0389 - categorical_accuracy: 0.9875 - val_loss: 4.0247 - val_categorical_accuracy: 0.6400\n",
            "Epoch 37/75\n",
            "1200/1200 [==============================] - 11s 9ms/step - loss: 0.0864 - categorical_accuracy: 0.9775 - val_loss: 5.7228 - val_categorical_accuracy: 0.5033\n",
            "Epoch 38/75\n",
            "1200/1200 [==============================] - 11s 9ms/step - loss: 0.0886 - categorical_accuracy: 0.9758 - val_loss: 8.5501 - val_categorical_accuracy: 0.2967\n",
            "Epoch 39/75\n",
            "1200/1200 [==============================] - 11s 9ms/step - loss: 0.0325 - categorical_accuracy: 0.9875 - val_loss: 2.2947 - val_categorical_accuracy: 0.6867\n",
            "Epoch 40/75\n",
            "1200/1200 [==============================] - 10s 9ms/step - loss: 0.0267 - categorical_accuracy: 0.9933 - val_loss: 1.6518 - val_categorical_accuracy: 0.7600\n",
            "Epoch 41/75\n",
            "1200/1200 [==============================] - 11s 9ms/step - loss: 0.0259 - categorical_accuracy: 0.9883 - val_loss: 1.4249 - val_categorical_accuracy: 0.7833\n",
            "Epoch 42/75\n",
            "1200/1200 [==============================] - 11s 9ms/step - loss: 0.0170 - categorical_accuracy: 0.9958 - val_loss: 2.8642 - val_categorical_accuracy: 0.6867\n",
            "Epoch 43/75\n",
            "1200/1200 [==============================] - 11s 9ms/step - loss: 0.0191 - categorical_accuracy: 0.9958 - val_loss: 3.2243 - val_categorical_accuracy: 0.6533\n",
            "Epoch 44/75\n",
            "1200/1200 [==============================] - 11s 9ms/step - loss: 0.0588 - categorical_accuracy: 0.9867 - val_loss: 3.2499 - val_categorical_accuracy: 0.6833\n",
            "Epoch 45/75\n",
            "1200/1200 [==============================] - 11s 9ms/step - loss: 0.0375 - categorical_accuracy: 0.9892 - val_loss: 3.9359 - val_categorical_accuracy: 0.6300\n",
            "Epoch 46/75\n",
            "1200/1200 [==============================] - 11s 9ms/step - loss: 0.0416 - categorical_accuracy: 0.9842 - val_loss: 5.6449 - val_categorical_accuracy: 0.5767\n",
            "Epoch 47/75\n",
            "1200/1200 [==============================] - 11s 9ms/step - loss: 0.0706 - categorical_accuracy: 0.9833 - val_loss: 7.6216 - val_categorical_accuracy: 0.4267\n",
            "Epoch 48/75\n",
            "1200/1200 [==============================] - 11s 9ms/step - loss: 0.0885 - categorical_accuracy: 0.9758 - val_loss: 2.8362 - val_categorical_accuracy: 0.7233\n",
            "Epoch 49/75\n",
            "1200/1200 [==============================] - 11s 9ms/step - loss: 0.0659 - categorical_accuracy: 0.9825 - val_loss: 5.2899 - val_categorical_accuracy: 0.5600\n",
            "Epoch 50/75\n",
            "1200/1200 [==============================] - 11s 9ms/step - loss: 0.0319 - categorical_accuracy: 0.9875 - val_loss: 3.3640 - val_categorical_accuracy: 0.6667\n",
            "Epoch 51/75\n",
            "1200/1200 [==============================] - 11s 9ms/step - loss: 0.0626 - categorical_accuracy: 0.9842 - val_loss: 2.4200 - val_categorical_accuracy: 0.7500\n",
            "Epoch 52/75\n",
            "1200/1200 [==============================] - 15s 13ms/step - loss: 0.0279 - categorical_accuracy: 0.9925 - val_loss: 1.8997 - val_categorical_accuracy: 0.8033\n",
            "Epoch 53/75\n",
            "1200/1200 [==============================] - 11s 9ms/step - loss: 0.0194 - categorical_accuracy: 0.9942 - val_loss: 1.4633 - val_categorical_accuracy: 0.8333\n",
            "Epoch 54/75\n",
            "1200/1200 [==============================] - 11s 9ms/step - loss: 0.0144 - categorical_accuracy: 0.9967 - val_loss: 1.6065 - val_categorical_accuracy: 0.8233\n",
            "Epoch 55/75\n",
            "1200/1200 [==============================] - 11s 9ms/step - loss: 0.0129 - categorical_accuracy: 0.9958 - val_loss: 0.9085 - val_categorical_accuracy: 0.8833\n",
            "Epoch 56/75\n",
            "1200/1200 [==============================] - 11s 9ms/step - loss: 0.0253 - categorical_accuracy: 0.9950 - val_loss: 1.8812 - val_categorical_accuracy: 0.8033\n",
            "Epoch 57/75\n",
            "1200/1200 [==============================] - 11s 9ms/step - loss: 0.0179 - categorical_accuracy: 0.9967 - val_loss: 1.5815 - val_categorical_accuracy: 0.8300\n",
            "Epoch 58/75\n",
            "1200/1200 [==============================] - 11s 9ms/step - loss: 0.0124 - categorical_accuracy: 0.9958 - val_loss: 1.1021 - val_categorical_accuracy: 0.8633\n",
            "Epoch 59/75\n",
            "1200/1200 [==============================] - 11s 9ms/step - loss: 0.0102 - categorical_accuracy: 0.9975 - val_loss: 0.8800 - val_categorical_accuracy: 0.8800\n",
            "Epoch 60/75\n",
            "1200/1200 [==============================] - 11s 9ms/step - loss: 0.0402 - categorical_accuracy: 0.9883 - val_loss: 2.1788 - val_categorical_accuracy: 0.7800\n",
            "Epoch 61/75\n",
            "1200/1200 [==============================] - 11s 9ms/step - loss: 0.0903 - categorical_accuracy: 0.9817 - val_loss: 0.6634 - val_categorical_accuracy: 0.8800\n",
            "Epoch 62/75\n",
            "1200/1200 [==============================] - 11s 9ms/step - loss: 0.0414 - categorical_accuracy: 0.9917 - val_loss: 0.2350 - val_categorical_accuracy: 0.9633\n",
            "Epoch 63/75\n",
            "1200/1200 [==============================] - 11s 9ms/step - loss: 0.1199 - categorical_accuracy: 0.9592 - val_loss: 1.8407 - val_categorical_accuracy: 0.7833\n",
            "Epoch 64/75\n",
            "1200/1200 [==============================] - 11s 9ms/step - loss: 0.0995 - categorical_accuracy: 0.9733 - val_loss: 4.2932 - val_categorical_accuracy: 0.6900\n",
            "Epoch 65/75\n",
            "1200/1200 [==============================] - 11s 9ms/step - loss: 0.0651 - categorical_accuracy: 0.9825 - val_loss: 1.8548 - val_categorical_accuracy: 0.8433\n",
            "Epoch 66/75\n",
            "1200/1200 [==============================] - 11s 9ms/step - loss: 0.0755 - categorical_accuracy: 0.9817 - val_loss: 0.6658 - val_categorical_accuracy: 0.9267\n",
            "Epoch 67/75\n",
            "1200/1200 [==============================] - 11s 9ms/step - loss: 0.0415 - categorical_accuracy: 0.9875 - val_loss: 1.0136 - val_categorical_accuracy: 0.8600\n",
            "Epoch 68/75\n",
            "1200/1200 [==============================] - 10s 9ms/step - loss: 0.0556 - categorical_accuracy: 0.9858 - val_loss: 1.1256 - val_categorical_accuracy: 0.8767\n",
            "Epoch 69/75\n",
            "1200/1200 [==============================] - 10s 9ms/step - loss: 0.0492 - categorical_accuracy: 0.9875 - val_loss: 1.2377 - val_categorical_accuracy: 0.8800\n",
            "Epoch 70/75\n",
            "1200/1200 [==============================] - 11s 9ms/step - loss: 0.0477 - categorical_accuracy: 0.9908 - val_loss: 1.2554 - val_categorical_accuracy: 0.8800\n",
            "Epoch 71/75\n",
            "1200/1200 [==============================] - 11s 9ms/step - loss: 0.0125 - categorical_accuracy: 0.9950 - val_loss: 1.5459 - val_categorical_accuracy: 0.8867\n",
            "Epoch 72/75\n",
            "1200/1200 [==============================] - 11s 9ms/step - loss: 0.0123 - categorical_accuracy: 0.9950 - val_loss: 0.8866 - val_categorical_accuracy: 0.9267\n",
            "Epoch 73/75\n",
            "1200/1200 [==============================] - 11s 9ms/step - loss: 0.0271 - categorical_accuracy: 0.9975 - val_loss: 0.7539 - val_categorical_accuracy: 0.9233\n",
            "Epoch 74/75\n",
            "1200/1200 [==============================] - 11s 9ms/step - loss: 0.0201 - categorical_accuracy: 0.9950 - val_loss: 0.3836 - val_categorical_accuracy: 0.9533\n",
            "Epoch 75/75\n",
            "1200/1200 [==============================] - 11s 9ms/step - loss: 0.0138 - categorical_accuracy: 0.9967 - val_loss: 0.7569 - val_categorical_accuracy: 0.9167\n"
          ],
          "name": "stdout"
        }
      ]
    },
    {
      "cell_type": "code",
      "metadata": {
        "id": "rvstepqZh7V9",
        "colab_type": "code",
        "outputId": "9abd399e-d498-4c15-efd5-8094a2977c87",
        "colab": {
          "base_uri": "https://localhost:8080/",
          "height": 545
        }
      },
      "source": [
        "accuracy = mobilenet_3ch_history.history['categorical_accuracy']\n",
        "val_accuracy = mobilenet_3ch_history.history['val_categorical_accuracy']\n",
        "loss = mobilenet_3ch_history.history['loss']\n",
        "val_loss = mobilenet_3ch_history.history['val_loss']\n",
        "\n",
        "epochs_x = range(len(accuracy))\n",
        "\n",
        "plt.plot(epochs_x, accuracy, 'b', label='Training acc')\n",
        "plt.plot(epochs_x, val_accuracy, 'r', label='Validation acc')\n",
        "plt.title('Mobilenet V2 Training and validation accuracy')\n",
        "plt.legend()\n",
        "\n",
        "plt.figure()\n",
        "\n",
        "plt.plot(epochs_x, loss, 'b', label='Training loss')\n",
        "plt.plot(epochs_x, val_loss, 'r', label='Validation loss')\n",
        "plt.title('Mobilenet V2 Training and validation loss')\n",
        "plt.legend()\n",
        "\n",
        "plt.show()"
      ],
      "execution_count": 0,
      "outputs": [
        {
          "output_type": "display_data",
          "data": {
            "image/png": "[encoded data removed]",
            "text/plain": [
              "<Figure size 432x288 with 1 Axes>"
            ]
          },
          "metadata": {
            "tags": [],
            "needs_background": "light"
          }
        },
        {
          "output_type": "display_data",
          "data": {
            "image/png": "[encoded data removed]",
            "text/plain": [
              "<Figure size 432x288 with 1 Axes>"
            ]
          },
          "metadata": {
            "tags": [],
            "needs_background": "light"
          }
        }
      ]
    },
    {
      "cell_type": "code",
      "metadata": {
        "id": "Ncm2ArewpNGZ",
        "colab_type": "code",
        "colab": {}
      },
      "source": [
        "mobilenet_3ch_spatial_checkpointer = callbacks.ModelCheckpoint(\"/content/drive/My Drive/Colab Notebooks/258_project_personal/saved_models/mobilenet_3ch_spatial_weights.{epoch:02d}.hdf5\",\\\n",
        "                                                      verbose=0, save_best_only=True,)\n",
        "mobilenet_v2_3ch_spatial.compile(optimizer = tune_optimizer, loss = tune_loss, metrics = tune_metrics)"
      ],
      "execution_count": 0,
      "outputs": []
    },
    {
      "cell_type": "code",
      "metadata": {
        "id": "9ScRZxxKpYVy",
        "colab_type": "code",
        "outputId": "8439913a-762d-4c36-a73a-daddd070e0ba",
        "colab": {
          "base_uri": "https://localhost:8080/",
          "height": 1000
        }
      },
      "source": [
        "mobilenet_3ch_spatial_history = mobilenet_v2_3ch_spatial.fit(data_train,label_train, batch_size=32,\\\n",
        "                                     validation_data=(data_val,label_val),\\\n",
        "                                     epochs = tune_epochs, callbacks = [mobilenet_3ch_spatial_checkpointer])"
      ],
      "execution_count": 0,
      "outputs": [
        {
          "output_type": "stream",
          "text": [
            "Train on 1200 samples, validate on 300 samples\n",
            "Epoch 1/75\n",
            "1200/1200 [==============================] - 21s 18ms/step - loss: 2.3425 - categorical_accuracy: 0.3700 - val_loss: 6.1914 - val_categorical_accuracy: 0.1933\n",
            "Epoch 2/75\n",
            "1200/1200 [==============================] - 11s 9ms/step - loss: 0.8529 - categorical_accuracy: 0.7433 - val_loss: 7.5692 - val_categorical_accuracy: 0.2000\n",
            "Epoch 3/75\n",
            "1200/1200 [==============================] - 11s 9ms/step - loss: 0.4165 - categorical_accuracy: 0.8692 - val_loss: 6.7768 - val_categorical_accuracy: 0.2633\n",
            "Epoch 4/75\n",
            "1200/1200 [==============================] - 11s 9ms/step - loss: 0.3434 - categorical_accuracy: 0.8908 - val_loss: 8.1431 - val_categorical_accuracy: 0.2867\n",
            "Epoch 5/75\n",
            "1200/1200 [==============================] - 10s 9ms/step - loss: 0.2570 - categorical_accuracy: 0.9192 - val_loss: 14.3077 - val_categorical_accuracy: 0.2233\n",
            "Epoch 6/75\n",
            "1200/1200 [==============================] - 10s 9ms/step - loss: 0.2049 - categorical_accuracy: 0.9300 - val_loss: 10.4276 - val_categorical_accuracy: 0.2500\n",
            "Epoch 7/75\n",
            "1200/1200 [==============================] - 11s 9ms/step - loss: 0.2415 - categorical_accuracy: 0.9250 - val_loss: 8.8438 - val_categorical_accuracy: 0.2933\n",
            "Epoch 8/75\n",
            "1200/1200 [==============================] - 11s 9ms/step - loss: 0.1693 - categorical_accuracy: 0.9492 - val_loss: 7.3834 - val_categorical_accuracy: 0.3133\n",
            "Epoch 9/75\n",
            "1200/1200 [==============================] - 10s 9ms/step - loss: 0.1146 - categorical_accuracy: 0.9608 - val_loss: 6.6389 - val_categorical_accuracy: 0.3067\n",
            "Epoch 10/75\n",
            "1200/1200 [==============================] - 10s 9ms/step - loss: 0.1799 - categorical_accuracy: 0.9558 - val_loss: 7.2755 - val_categorical_accuracy: 0.3467\n",
            "Epoch 11/75\n",
            "1200/1200 [==============================] - 10s 9ms/step - loss: 0.1454 - categorical_accuracy: 0.9592 - val_loss: 5.8845 - val_categorical_accuracy: 0.4067\n",
            "Epoch 12/75\n",
            "1200/1200 [==============================] - 11s 9ms/step - loss: 0.0884 - categorical_accuracy: 0.9708 - val_loss: 7.4478 - val_categorical_accuracy: 0.3433\n",
            "Epoch 13/75\n",
            "1200/1200 [==============================] - 10s 9ms/step - loss: 0.0898 - categorical_accuracy: 0.9725 - val_loss: 11.2224 - val_categorical_accuracy: 0.3100\n",
            "Epoch 14/75\n",
            "1200/1200 [==============================] - 10s 9ms/step - loss: 0.1329 - categorical_accuracy: 0.9583 - val_loss: 9.6994 - val_categorical_accuracy: 0.3633\n",
            "Epoch 15/75\n",
            "1200/1200 [==============================] - 10s 9ms/step - loss: 0.0604 - categorical_accuracy: 0.9792 - val_loss: 6.8234 - val_categorical_accuracy: 0.4567\n",
            "Epoch 16/75\n",
            "1200/1200 [==============================] - 10s 9ms/step - loss: 0.0783 - categorical_accuracy: 0.9792 - val_loss: 4.0928 - val_categorical_accuracy: 0.5567\n",
            "Epoch 17/75\n",
            "1200/1200 [==============================] - 11s 9ms/step - loss: 0.1471 - categorical_accuracy: 0.9600 - val_loss: 3.2382 - val_categorical_accuracy: 0.7233\n",
            "Epoch 18/75\n",
            "1200/1200 [==============================] - 11s 9ms/step - loss: 0.1074 - categorical_accuracy: 0.9667 - val_loss: 2.0533 - val_categorical_accuracy: 0.7567\n",
            "Epoch 19/75\n",
            "1200/1200 [==============================] - 11s 9ms/step - loss: 0.1093 - categorical_accuracy: 0.9675 - val_loss: 2.3601 - val_categorical_accuracy: 0.7833\n",
            "Epoch 20/75\n",
            "1200/1200 [==============================] - 10s 9ms/step - loss: 0.1280 - categorical_accuracy: 0.9575 - val_loss: 3.5182 - val_categorical_accuracy: 0.6767\n",
            "Epoch 21/75\n",
            "1200/1200 [==============================] - 11s 9ms/step - loss: 0.0955 - categorical_accuracy: 0.9717 - val_loss: 2.7458 - val_categorical_accuracy: 0.7133\n",
            "Epoch 22/75\n",
            "1200/1200 [==============================] - 11s 9ms/step - loss: 0.0476 - categorical_accuracy: 0.9842 - val_loss: 5.6208 - val_categorical_accuracy: 0.5700\n",
            "Epoch 23/75\n",
            "1200/1200 [==============================] - 10s 9ms/step - loss: 0.0513 - categorical_accuracy: 0.9850 - val_loss: 1.4477 - val_categorical_accuracy: 0.7833\n",
            "Epoch 24/75\n",
            "1200/1200 [==============================] - 11s 9ms/step - loss: 0.0566 - categorical_accuracy: 0.9850 - val_loss: 1.4671 - val_categorical_accuracy: 0.7900\n",
            "Epoch 25/75\n",
            "1200/1200 [==============================] - 10s 9ms/step - loss: 0.0273 - categorical_accuracy: 0.9900 - val_loss: 3.2560 - val_categorical_accuracy: 0.6300\n",
            "Epoch 26/75\n",
            "1200/1200 [==============================] - 10s 9ms/step - loss: 0.0367 - categorical_accuracy: 0.9908 - val_loss: 0.6407 - val_categorical_accuracy: 0.8900\n",
            "Epoch 27/75\n",
            "1200/1200 [==============================] - 11s 9ms/step - loss: 0.0237 - categorical_accuracy: 0.9925 - val_loss: 0.6245 - val_categorical_accuracy: 0.8833\n",
            "Epoch 28/75\n",
            "1200/1200 [==============================] - 11s 9ms/step - loss: 0.0343 - categorical_accuracy: 0.9892 - val_loss: 1.0450 - val_categorical_accuracy: 0.8400\n",
            "Epoch 29/75\n",
            "1200/1200 [==============================] - 11s 9ms/step - loss: 0.0178 - categorical_accuracy: 0.9950 - val_loss: 1.7742 - val_categorical_accuracy: 0.7833\n",
            "Epoch 30/75\n",
            "1200/1200 [==============================] - 11s 9ms/step - loss: 0.0240 - categorical_accuracy: 0.9933 - val_loss: 1.4498 - val_categorical_accuracy: 0.8033\n",
            "Epoch 31/75\n",
            "1200/1200 [==============================] - 11s 9ms/step - loss: 0.0362 - categorical_accuracy: 0.9867 - val_loss: 0.6125 - val_categorical_accuracy: 0.9033\n",
            "Epoch 32/75\n",
            "1200/1200 [==============================] - 11s 9ms/step - loss: 0.0443 - categorical_accuracy: 0.9892 - val_loss: 1.0982 - val_categorical_accuracy: 0.8400\n",
            "Epoch 33/75\n",
            "1200/1200 [==============================] - 11s 9ms/step - loss: 0.0643 - categorical_accuracy: 0.9817 - val_loss: 2.5431 - val_categorical_accuracy: 0.7467\n",
            "Epoch 34/75\n",
            "1200/1200 [==============================] - 11s 9ms/step - loss: 0.0218 - categorical_accuracy: 0.9917 - val_loss: 2.9134 - val_categorical_accuracy: 0.7167\n",
            "Epoch 35/75\n",
            "1200/1200 [==============================] - 10s 9ms/step - loss: 0.0326 - categorical_accuracy: 0.9917 - val_loss: 2.6951 - val_categorical_accuracy: 0.7433\n",
            "Epoch 36/75\n",
            "1200/1200 [==============================] - 10s 9ms/step - loss: 0.0425 - categorical_accuracy: 0.9875 - val_loss: 2.3264 - val_categorical_accuracy: 0.7933\n",
            "Epoch 37/75\n",
            "1200/1200 [==============================] - 11s 9ms/step - loss: 0.0670 - categorical_accuracy: 0.9850 - val_loss: 1.7089 - val_categorical_accuracy: 0.7433\n",
            "Epoch 38/75\n",
            "1200/1200 [==============================] - 10s 9ms/step - loss: 0.0391 - categorical_accuracy: 0.9842 - val_loss: 2.0537 - val_categorical_accuracy: 0.7333\n",
            "Epoch 39/75\n",
            "1200/1200 [==============================] - 10s 9ms/step - loss: 0.0587 - categorical_accuracy: 0.9833 - val_loss: 0.8563 - val_categorical_accuracy: 0.8800\n",
            "Epoch 40/75\n",
            "1200/1200 [==============================] - 10s 9ms/step - loss: 0.0492 - categorical_accuracy: 0.9867 - val_loss: 1.3913 - val_categorical_accuracy: 0.8067\n",
            "Epoch 41/75\n",
            "1200/1200 [==============================] - 11s 9ms/step - loss: 0.0361 - categorical_accuracy: 0.9875 - val_loss: 0.7889 - val_categorical_accuracy: 0.8733\n",
            "Epoch 42/75\n",
            "1200/1200 [==============================] - 11s 9ms/step - loss: 0.0466 - categorical_accuracy: 0.9850 - val_loss: 1.5981 - val_categorical_accuracy: 0.8100\n",
            "Epoch 43/75\n",
            "1200/1200 [==============================] - 11s 9ms/step - loss: 0.0504 - categorical_accuracy: 0.9833 - val_loss: 3.1261 - val_categorical_accuracy: 0.6967\n",
            "Epoch 44/75\n",
            "1200/1200 [==============================] - 11s 9ms/step - loss: 0.0505 - categorical_accuracy: 0.9833 - val_loss: 4.0912 - val_categorical_accuracy: 0.6567\n",
            "Epoch 45/75\n",
            "1200/1200 [==============================] - 11s 9ms/step - loss: 0.0420 - categorical_accuracy: 0.9867 - val_loss: 3.3062 - val_categorical_accuracy: 0.7367\n",
            "Epoch 46/75\n",
            "1200/1200 [==============================] - 10s 9ms/step - loss: 0.0142 - categorical_accuracy: 0.9950 - val_loss: 2.4573 - val_categorical_accuracy: 0.7500\n",
            "Epoch 47/75\n",
            "1200/1200 [==============================] - 10s 9ms/step - loss: 0.0131 - categorical_accuracy: 0.9958 - val_loss: 1.6569 - val_categorical_accuracy: 0.8200\n",
            "Epoch 48/75\n",
            "1200/1200 [==============================] - 11s 9ms/step - loss: 0.0161 - categorical_accuracy: 0.9950 - val_loss: 0.7243 - val_categorical_accuracy: 0.9067\n",
            "Epoch 49/75\n",
            "1200/1200 [==============================] - 11s 9ms/step - loss: 0.0092 - categorical_accuracy: 0.9983 - val_loss: 0.6134 - val_categorical_accuracy: 0.9167\n",
            "Epoch 50/75\n",
            "1200/1200 [==============================] - 11s 9ms/step - loss: 0.0138 - categorical_accuracy: 0.9975 - val_loss: 0.5833 - val_categorical_accuracy: 0.9133\n",
            "Epoch 51/75\n",
            "1200/1200 [==============================] - 11s 9ms/step - loss: 0.0256 - categorical_accuracy: 0.9917 - val_loss: 0.8660 - val_categorical_accuracy: 0.8733\n",
            "Epoch 52/75\n",
            "1200/1200 [==============================] - 10s 9ms/step - loss: 0.0940 - categorical_accuracy: 0.9792 - val_loss: 4.4991 - val_categorical_accuracy: 0.7133\n",
            "Epoch 53/75\n",
            "1200/1200 [==============================] - 11s 9ms/step - loss: 0.0813 - categorical_accuracy: 0.9783 - val_loss: 4.9192 - val_categorical_accuracy: 0.6133\n",
            "Epoch 54/75\n",
            "1200/1200 [==============================] - 11s 9ms/step - loss: 0.0485 - categorical_accuracy: 0.9883 - val_loss: 3.0231 - val_categorical_accuracy: 0.7300\n",
            "Epoch 55/75\n",
            "1200/1200 [==============================] - 11s 9ms/step - loss: 0.0274 - categorical_accuracy: 0.9917 - val_loss: 1.6261 - val_categorical_accuracy: 0.8333\n",
            "Epoch 56/75\n",
            "1200/1200 [==============================] - 11s 9ms/step - loss: 0.0215 - categorical_accuracy: 0.9917 - val_loss: 1.6042 - val_categorical_accuracy: 0.8233\n",
            "Epoch 57/75\n",
            "1200/1200 [==============================] - 11s 9ms/step - loss: 0.0243 - categorical_accuracy: 0.9933 - val_loss: 1.2068 - val_categorical_accuracy: 0.8767\n",
            "Epoch 58/75\n",
            "1200/1200 [==============================] - 11s 9ms/step - loss: 0.0113 - categorical_accuracy: 0.9975 - val_loss: 0.9615 - val_categorical_accuracy: 0.8767\n",
            "Epoch 59/75\n",
            "1200/1200 [==============================] - 11s 9ms/step - loss: 0.0345 - categorical_accuracy: 0.9908 - val_loss: 2.2429 - val_categorical_accuracy: 0.8100\n",
            "Epoch 60/75\n",
            "1200/1200 [==============================] - 11s 9ms/step - loss: 0.1074 - categorical_accuracy: 0.9808 - val_loss: 3.6144 - val_categorical_accuracy: 0.5900\n",
            "Epoch 61/75\n",
            "1200/1200 [==============================] - 11s 9ms/step - loss: 0.0495 - categorical_accuracy: 0.9850 - val_loss: 6.0542 - val_categorical_accuracy: 0.5567\n",
            "Epoch 62/75\n",
            "1200/1200 [==============================] - 11s 9ms/step - loss: 0.0136 - categorical_accuracy: 0.9950 - val_loss: 2.7451 - val_categorical_accuracy: 0.7233\n",
            "Epoch 63/75\n",
            "1200/1200 [==============================] - 11s 9ms/step - loss: 0.0445 - categorical_accuracy: 0.9883 - val_loss: 3.2740 - val_categorical_accuracy: 0.7000\n",
            "Epoch 64/75\n",
            "1200/1200 [==============================] - 11s 9ms/step - loss: 0.0142 - categorical_accuracy: 0.9958 - val_loss: 5.6293 - val_categorical_accuracy: 0.5533\n",
            "Epoch 65/75\n",
            "1200/1200 [==============================] - 11s 9ms/step - loss: 0.0092 - categorical_accuracy: 0.9975 - val_loss: 5.3148 - val_categorical_accuracy: 0.5833\n",
            "Epoch 66/75\n",
            "1200/1200 [==============================] - 11s 9ms/step - loss: 0.0371 - categorical_accuracy: 0.9917 - val_loss: 5.1672 - val_categorical_accuracy: 0.6433\n",
            "Epoch 67/75\n",
            "1200/1200 [==============================] - 11s 9ms/step - loss: 0.0460 - categorical_accuracy: 0.9892 - val_loss: 6.0851 - val_categorical_accuracy: 0.6633\n",
            "Epoch 68/75\n",
            "1200/1200 [==============================] - 11s 9ms/step - loss: 0.0561 - categorical_accuracy: 0.9842 - val_loss: 4.4007 - val_categorical_accuracy: 0.7533\n",
            "Epoch 69/75\n",
            "1200/1200 [==============================] - 11s 9ms/step - loss: 0.0238 - categorical_accuracy: 0.9942 - val_loss: 4.2974 - val_categorical_accuracy: 0.7300\n",
            "Epoch 70/75\n",
            "1200/1200 [==============================] - 11s 9ms/step - loss: 0.0184 - categorical_accuracy: 0.9942 - val_loss: 4.2862 - val_categorical_accuracy: 0.7400\n",
            "Epoch 71/75\n",
            "1200/1200 [==============================] - 11s 9ms/step - loss: 0.0150 - categorical_accuracy: 0.9975 - val_loss: 4.6087 - val_categorical_accuracy: 0.7367\n",
            "Epoch 72/75\n",
            "1200/1200 [==============================] - 11s 9ms/step - loss: 0.0386 - categorical_accuracy: 0.9875 - val_loss: 3.8349 - val_categorical_accuracy: 0.7267\n",
            "Epoch 73/75\n",
            "1200/1200 [==============================] - 11s 9ms/step - loss: 0.0249 - categorical_accuracy: 0.9925 - val_loss: 2.5460 - val_categorical_accuracy: 0.7800\n",
            "Epoch 74/75\n",
            "1200/1200 [==============================] - 11s 9ms/step - loss: 0.0412 - categorical_accuracy: 0.9908 - val_loss: 8.2255 - val_categorical_accuracy: 0.4867\n",
            "Epoch 75/75\n",
            "1200/1200 [==============================] - 11s 9ms/step - loss: 0.0189 - categorical_accuracy: 0.9925 - val_loss: 6.6790 - val_categorical_accuracy: 0.5700\n"
          ],
          "name": "stdout"
        }
      ]
    },
    {
      "cell_type": "code",
      "metadata": {
        "id": "GFanmYYKpd-o",
        "colab_type": "code",
        "outputId": "4daca777-36f9-4b2f-a4cf-3ee665f3d0fe",
        "colab": {
          "base_uri": "https://localhost:8080/",
          "height": 545
        }
      },
      "source": [
        "accuracy = mobilenet_3ch_spatial_history.history['categorical_accuracy']\n",
        "val_accuracy = mobilenet_3ch_spatial_history.history['val_categorical_accuracy']\n",
        "loss = mobilenet_3ch_spatial_history.history['loss']\n",
        "val_loss = mobilenet_3ch_spatial_history.history['val_loss']\n",
        "\n",
        "epochs_x = range(len(accuracy))\n",
        "\n",
        "plt.plot(epochs_x, accuracy, 'b', label='Training acc')\n",
        "plt.plot(epochs_x, val_accuracy, 'r', label='Validation acc')\n",
        "plt.title('Mobilenet V2 Training and validation accuracy')\n",
        "plt.legend()\n",
        "\n",
        "plt.figure()\n",
        "\n",
        "plt.plot(epochs_x, loss, 'b', label='Training loss')\n",
        "plt.plot(epochs_x, val_loss, 'r', label='Validation loss')\n",
        "plt.title('Mobilenet V2 Training and validation loss')\n",
        "plt.legend()\n",
        "\n",
        "plt.show()"
      ],
      "execution_count": 0,
      "outputs": [
        {
          "output_type": "display_data",
          "data": {
            "image/png": "[encoded data removed]",
            "text/plain": [
              "<Figure size 432x288 with 1 Axes>"
            ]
          },
          "metadata": {
            "tags": [],
            "needs_background": "light"
          }
        },
        {
          "output_type": "display_data",
          "data": {
            "image/png": "[encoded data removed]",
            "text/plain": [
              "<Figure size 432x288 with 1 Axes>"
            ]
          },
          "metadata": {
            "tags": [],
            "needs_background": "light"
          }
        }
      ]
    },
    {
      "cell_type": "markdown",
      "metadata": {
        "id": "NGDANSvp1v_4",
        "colab_type": "text"
      },
      "source": [
        "##### Transfer Learning using imagenet weights"
      ]
    },
    {
      "cell_type": "code",
      "metadata": {
        "id": "YjcjxRh4J5Wq",
        "colab_type": "code",
        "colab": {}
      },
      "source": [
        "mobilenet_v2_checkpointer = callbacks.ModelCheckpoint(\"/content/drive/My Drive/Colab Notebooks/258_project_personal/saved_models/mobilenet_weights_224_{epoch:02d}.hdf5\",\\\n",
        "                                                      verbose=0, save_best_only=True,)\n",
        "mobilenet_v2.compile(optimizer = tune_optimizer, loss = tune_loss, metrics = tune_metrics)"
      ],
      "execution_count": 0,
      "outputs": []
    },
    {
      "cell_type": "code",
      "metadata": {
        "id": "3Va72nI6K8MQ",
        "colab_type": "code",
        "outputId": "b214fefb-f11f-4748-d97c-f06c443ab0f8",
        "colab": {
          "base_uri": "https://localhost:8080/",
          "height": 1000
        }
      },
      "source": [
        "mobilenet_history = mobilenet_v2.fit(data_train,label_train, batch_size=32,\\\n",
        "                                     validation_data=(data_val,label_val),\\\n",
        "                                     epochs = tune_epochs, callbacks = [mobilenet_v2_checkpointer])"
      ],
      "execution_count": 0,
      "outputs": [
        {
          "output_type": "stream",
          "text": [
            "Train on 1200 samples, validate on 300 samples\n",
            "Epoch 1/75\n",
            "1200/1200 [==============================] - 123s 102ms/step - loss: 0.2699 - categorical_accuracy: 0.9075 - val_loss: 2.2110 - val_categorical_accuracy: 0.5533\n",
            "Epoch 2/75\n",
            "1200/1200 [==============================] - 110s 91ms/step - loss: 0.0859 - categorical_accuracy: 0.9683 - val_loss: 2.6347 - val_categorical_accuracy: 0.5133\n",
            "Epoch 3/75\n",
            "1200/1200 [==============================] - 110s 91ms/step - loss: 0.0229 - categorical_accuracy: 0.9933 - val_loss: 3.0472 - val_categorical_accuracy: 0.4767\n",
            "Epoch 4/75\n",
            "1200/1200 [==============================] - 110s 92ms/step - loss: 0.0418 - categorical_accuracy: 0.9875 - val_loss: 3.5985 - val_categorical_accuracy: 0.4067\n",
            "Epoch 5/75\n",
            "1200/1200 [==============================] - 112s 93ms/step - loss: 0.0345 - categorical_accuracy: 0.9900 - val_loss: 2.2393 - val_categorical_accuracy: 0.6800\n",
            "Epoch 6/75\n",
            "1200/1200 [==============================] - 111s 92ms/step - loss: 0.0138 - categorical_accuracy: 0.9967 - val_loss: 1.8134 - val_categorical_accuracy: 0.7233\n",
            "Epoch 7/75\n",
            "1200/1200 [==============================] - 110s 92ms/step - loss: 0.0583 - categorical_accuracy: 0.9775 - val_loss: 3.5976 - val_categorical_accuracy: 0.5467\n",
            "Epoch 8/75\n",
            "1200/1200 [==============================] - 109s 91ms/step - loss: 0.0352 - categorical_accuracy: 0.9875 - val_loss: 4.0769 - val_categorical_accuracy: 0.4867\n",
            "Epoch 9/75\n",
            "1200/1200 [==============================] - 107s 89ms/step - loss: 0.0140 - categorical_accuracy: 0.9975 - val_loss: 3.0560 - val_categorical_accuracy: 0.6033\n",
            "Epoch 10/75\n",
            "1200/1200 [==============================] - 109s 91ms/step - loss: 0.0104 - categorical_accuracy: 0.9975 - val_loss: 2.9029 - val_categorical_accuracy: 0.6433\n",
            "Epoch 11/75\n",
            "1200/1200 [==============================] - 109s 91ms/step - loss: 0.0093 - categorical_accuracy: 0.9967 - val_loss: 3.9343 - val_categorical_accuracy: 0.5167\n",
            "Epoch 12/75\n",
            "1200/1200 [==============================] - 108s 90ms/step - loss: 0.0223 - categorical_accuracy: 0.9933 - val_loss: 4.4559 - val_categorical_accuracy: 0.5267\n",
            "Epoch 13/75\n",
            "1200/1200 [==============================] - 107s 89ms/step - loss: 0.0364 - categorical_accuracy: 0.9883 - val_loss: 4.1401 - val_categorical_accuracy: 0.5633\n",
            "Epoch 14/75\n",
            "1200/1200 [==============================] - 107s 89ms/step - loss: 0.0572 - categorical_accuracy: 0.9758 - val_loss: 2.9387 - val_categorical_accuracy: 0.5800\n",
            "Epoch 15/75\n",
            "1200/1200 [==============================] - 108s 90ms/step - loss: 0.0659 - categorical_accuracy: 0.9783 - val_loss: 3.7803 - val_categorical_accuracy: 0.4967\n",
            "Epoch 16/75\n",
            "1200/1200 [==============================] - 112s 93ms/step - loss: 0.0132 - categorical_accuracy: 0.9958 - val_loss: 1.6439 - val_categorical_accuracy: 0.7467\n",
            "Epoch 17/75\n",
            "1200/1200 [==============================] - 111s 92ms/step - loss: 0.0150 - categorical_accuracy: 0.9950 - val_loss: 2.0228 - val_categorical_accuracy: 0.7067\n",
            "Epoch 18/75\n",
            "1200/1200 [==============================] - 108s 90ms/step - loss: 0.0320 - categorical_accuracy: 0.9925 - val_loss: 0.5576 - val_categorical_accuracy: 0.8967\n",
            "Epoch 19/75\n",
            "1200/1200 [==============================] - 106s 88ms/step - loss: 0.0150 - categorical_accuracy: 0.9958 - val_loss: 0.8207 - val_categorical_accuracy: 0.8267\n",
            "Epoch 20/75\n",
            "1200/1200 [==============================] - 106s 88ms/step - loss: 0.0027 - categorical_accuracy: 0.9992 - val_loss: 2.3748 - val_categorical_accuracy: 0.7267\n",
            "Epoch 21/75\n",
            "1200/1200 [==============================] - 109s 90ms/step - loss: 0.0043 - categorical_accuracy: 0.9983 - val_loss: 1.0069 - val_categorical_accuracy: 0.8467\n",
            "Epoch 22/75\n",
            "1200/1200 [==============================] - 105s 88ms/step - loss: 0.0047 - categorical_accuracy: 0.9983 - val_loss: 1.0267 - val_categorical_accuracy: 0.8333\n",
            "Epoch 23/75\n",
            "1200/1200 [==============================] - 106s 88ms/step - loss: 0.0059 - categorical_accuracy: 0.9975 - val_loss: 0.8888 - val_categorical_accuracy: 0.8433\n",
            "Epoch 24/75\n",
            "1200/1200 [==============================] - 105s 88ms/step - loss: 0.0167 - categorical_accuracy: 0.9950 - val_loss: 0.4841 - val_categorical_accuracy: 0.9167\n",
            "Epoch 25/75\n",
            "1200/1200 [==============================] - 105s 88ms/step - loss: 0.0153 - categorical_accuracy: 0.9958 - val_loss: 0.2570 - val_categorical_accuracy: 0.9467\n",
            "Epoch 26/75\n",
            "1200/1200 [==============================] - 105s 88ms/step - loss: 0.0023 - categorical_accuracy: 1.0000 - val_loss: 0.1430 - val_categorical_accuracy: 0.9567\n",
            "Epoch 27/75\n",
            "1200/1200 [==============================] - 108s 90ms/step - loss: 0.0013 - categorical_accuracy: 0.9992 - val_loss: 0.1697 - val_categorical_accuracy: 0.9567\n",
            "Epoch 28/75\n",
            "1200/1200 [==============================] - 107s 89ms/step - loss: 4.5238e-04 - categorical_accuracy: 1.0000 - val_loss: 0.1349 - val_categorical_accuracy: 0.9633\n",
            "Epoch 29/75\n",
            "1200/1200 [==============================] - 107s 89ms/step - loss: 2.4658e-04 - categorical_accuracy: 1.0000 - val_loss: 0.1260 - val_categorical_accuracy: 0.9667\n",
            "Epoch 30/75\n",
            "1200/1200 [==============================] - 107s 89ms/step - loss: 3.7207e-04 - categorical_accuracy: 1.0000 - val_loss: 0.1114 - val_categorical_accuracy: 0.9667\n",
            "Epoch 31/75\n",
            "1200/1200 [==============================] - 107s 89ms/step - loss: 3.8108e-04 - categorical_accuracy: 1.0000 - val_loss: 0.1003 - val_categorical_accuracy: 0.9767\n",
            "Epoch 32/75\n",
            "1200/1200 [==============================] - 106s 89ms/step - loss: 1.2138e-04 - categorical_accuracy: 1.0000 - val_loss: 0.0969 - val_categorical_accuracy: 0.9800\n",
            "Epoch 33/75\n",
            "1200/1200 [==============================] - 108s 90ms/step - loss: 2.3895e-04 - categorical_accuracy: 1.0000 - val_loss: 0.0990 - val_categorical_accuracy: 0.9800\n",
            "Epoch 34/75\n",
            "1200/1200 [==============================] - 109s 91ms/step - loss: 1.3895e-04 - categorical_accuracy: 1.0000 - val_loss: 0.0982 - val_categorical_accuracy: 0.9800\n",
            "Epoch 35/75\n",
            "1200/1200 [==============================] - 109s 91ms/step - loss: 4.5569e-04 - categorical_accuracy: 1.0000 - val_loss: 0.1080 - val_categorical_accuracy: 0.9833\n",
            "Epoch 36/75\n",
            "1200/1200 [==============================] - 107s 89ms/step - loss: 1.2789e-04 - categorical_accuracy: 1.0000 - val_loss: 0.0991 - val_categorical_accuracy: 0.9833\n",
            "Epoch 37/75\n",
            "1200/1200 [==============================] - 108s 90ms/step - loss: 2.3662e-04 - categorical_accuracy: 1.0000 - val_loss: 0.0857 - val_categorical_accuracy: 0.9833\n",
            "Epoch 38/75\n",
            "1200/1200 [==============================] - 110s 92ms/step - loss: 2.0571e-04 - categorical_accuracy: 1.0000 - val_loss: 0.0904 - val_categorical_accuracy: 0.9833\n",
            "Epoch 39/75\n",
            "1200/1200 [==============================] - 107s 89ms/step - loss: 1.7135e-04 - categorical_accuracy: 1.0000 - val_loss: 0.0890 - val_categorical_accuracy: 0.9833\n",
            "Epoch 40/75\n",
            "1200/1200 [==============================] - 109s 91ms/step - loss: 2.4002e-04 - categorical_accuracy: 1.0000 - val_loss: 0.0829 - val_categorical_accuracy: 0.9833\n",
            "Epoch 41/75\n",
            "1200/1200 [==============================] - 107s 89ms/step - loss: 1.4950e-04 - categorical_accuracy: 1.0000 - val_loss: 0.0778 - val_categorical_accuracy: 0.9833\n",
            "Epoch 42/75\n",
            "1200/1200 [==============================] - 106s 89ms/step - loss: 1.3977e-04 - categorical_accuracy: 1.0000 - val_loss: 0.0714 - val_categorical_accuracy: 0.9900\n",
            "Epoch 43/75\n",
            "1200/1200 [==============================] - 106s 88ms/step - loss: 1.3795e-04 - categorical_accuracy: 1.0000 - val_loss: 0.0624 - val_categorical_accuracy: 0.9900\n",
            "Epoch 44/75\n",
            "1200/1200 [==============================] - 108s 90ms/step - loss: 7.7697e-05 - categorical_accuracy: 1.0000 - val_loss: 0.0583 - val_categorical_accuracy: 0.9900\n",
            "Epoch 45/75\n",
            "1200/1200 [==============================] - 106s 89ms/step - loss: 7.9075e-05 - categorical_accuracy: 1.0000 - val_loss: 0.0557 - val_categorical_accuracy: 0.9900\n",
            "Epoch 46/75\n",
            "1200/1200 [==============================] - 107s 89ms/step - loss: 7.0560e-05 - categorical_accuracy: 1.0000 - val_loss: 0.0543 - val_categorical_accuracy: 0.9900\n",
            "Epoch 47/75\n",
            "1200/1200 [==============================] - 107s 89ms/step - loss: 5.8206e-05 - categorical_accuracy: 1.0000 - val_loss: 0.0532 - val_categorical_accuracy: 0.9900\n",
            "Epoch 48/75\n",
            "1200/1200 [==============================] - 107s 89ms/step - loss: 7.0756e-05 - categorical_accuracy: 1.0000 - val_loss: 0.0503 - val_categorical_accuracy: 0.9900\n",
            "Epoch 49/75\n",
            "1200/1200 [==============================] - 107s 89ms/step - loss: 1.8644e-04 - categorical_accuracy: 1.0000 - val_loss: 0.0460 - val_categorical_accuracy: 0.9900\n",
            "Epoch 50/75\n",
            "1200/1200 [==============================] - 108s 90ms/step - loss: 8.0645e-05 - categorical_accuracy: 1.0000 - val_loss: 0.0455 - val_categorical_accuracy: 0.9900\n",
            "Epoch 51/75\n",
            "1200/1200 [==============================] - 106s 89ms/step - loss: 3.4065e-05 - categorical_accuracy: 1.0000 - val_loss: 0.0591 - val_categorical_accuracy: 0.9900\n",
            "Epoch 52/75\n",
            "1200/1200 [==============================] - 106s 88ms/step - loss: 6.0057e-05 - categorical_accuracy: 1.0000 - val_loss: 0.0572 - val_categorical_accuracy: 0.9900\n",
            "Epoch 53/75\n",
            "1200/1200 [==============================] - 106s 89ms/step - loss: 5.6034e-05 - categorical_accuracy: 1.0000 - val_loss: 0.0555 - val_categorical_accuracy: 0.9900\n",
            "Epoch 54/75\n",
            "1200/1200 [==============================] - 106s 89ms/step - loss: 3.3201e-05 - categorical_accuracy: 1.0000 - val_loss: 0.0526 - val_categorical_accuracy: 0.9933\n",
            "Epoch 55/75\n",
            "1200/1200 [==============================] - 108s 90ms/step - loss: 1.7405e-04 - categorical_accuracy: 1.0000 - val_loss: 0.0427 - val_categorical_accuracy: 0.9967\n",
            "Epoch 56/75\n",
            "1200/1200 [==============================] - 107s 89ms/step - loss: 3.4965e-05 - categorical_accuracy: 1.0000 - val_loss: 0.0426 - val_categorical_accuracy: 0.9967\n",
            "Epoch 57/75\n",
            "1200/1200 [==============================] - 106s 89ms/step - loss: 2.3360e-05 - categorical_accuracy: 1.0000 - val_loss: 0.0418 - val_categorical_accuracy: 0.9967\n",
            "Epoch 58/75\n",
            "1200/1200 [==============================] - 106s 88ms/step - loss: 3.8016e-05 - categorical_accuracy: 1.0000 - val_loss: 0.0418 - val_categorical_accuracy: 0.9967\n",
            "Epoch 59/75\n",
            "1200/1200 [==============================] - 106s 88ms/step - loss: 3.8219e-05 - categorical_accuracy: 1.0000 - val_loss: 0.0406 - val_categorical_accuracy: 0.9967\n",
            "Epoch 60/75\n",
            "1200/1200 [==============================] - 106s 88ms/step - loss: 2.6849e-05 - categorical_accuracy: 1.0000 - val_loss: 0.0399 - val_categorical_accuracy: 0.9967\n",
            "Epoch 61/75\n",
            "1200/1200 [==============================] - 107s 89ms/step - loss: 4.0423e-05 - categorical_accuracy: 1.0000 - val_loss: 0.0394 - val_categorical_accuracy: 0.9967\n",
            "Epoch 62/75\n",
            "1200/1200 [==============================] - 107s 89ms/step - loss: 3.0496e-05 - categorical_accuracy: 1.0000 - val_loss: 0.0383 - val_categorical_accuracy: 0.9967\n",
            "Epoch 63/75\n",
            "1200/1200 [==============================] - 107s 89ms/step - loss: 2.2960e-05 - categorical_accuracy: 1.0000 - val_loss: 0.0381 - val_categorical_accuracy: 0.9967\n",
            "Epoch 64/75\n",
            "1200/1200 [==============================] - 108s 90ms/step - loss: 4.6119e-05 - categorical_accuracy: 1.0000 - val_loss: 0.0371 - val_categorical_accuracy: 0.9967\n",
            "Epoch 65/75\n",
            "1200/1200 [==============================] - 107s 89ms/step - loss: 2.2962e-05 - categorical_accuracy: 1.0000 - val_loss: 0.0360 - val_categorical_accuracy: 0.9967\n",
            "Epoch 66/75\n",
            "1200/1200 [==============================] - 108s 90ms/step - loss: 1.4213e-05 - categorical_accuracy: 1.0000 - val_loss: 0.0350 - val_categorical_accuracy: 0.9967\n",
            "Epoch 67/75\n",
            "1200/1200 [==============================] - 109s 91ms/step - loss: 2.2637e-05 - categorical_accuracy: 1.0000 - val_loss: 0.0345 - val_categorical_accuracy: 0.9967\n",
            "Epoch 68/75\n",
            "1200/1200 [==============================] - 106s 88ms/step - loss: 2.3123e-05 - categorical_accuracy: 1.0000 - val_loss: 0.0337 - val_categorical_accuracy: 0.9967\n",
            "Epoch 69/75\n",
            "1200/1200 [==============================] - 106s 88ms/step - loss: 4.1493e-04 - categorical_accuracy: 1.0000 - val_loss: 0.0672 - val_categorical_accuracy: 0.9900\n",
            "Epoch 70/75\n",
            "1200/1200 [==============================] - 107s 89ms/step - loss: 1.1495e-04 - categorical_accuracy: 1.0000 - val_loss: 0.0676 - val_categorical_accuracy: 0.9867\n",
            "Epoch 71/75\n",
            "1200/1200 [==============================] - 106s 88ms/step - loss: 2.7687e-04 - categorical_accuracy: 1.0000 - val_loss: 0.0298 - val_categorical_accuracy: 0.9933\n",
            "Epoch 72/75\n",
            "1200/1200 [==============================] - 106s 89ms/step - loss: 2.0258e-04 - categorical_accuracy: 1.0000 - val_loss: 0.0334 - val_categorical_accuracy: 0.9933\n",
            "Epoch 73/75\n",
            "1200/1200 [==============================] - 109s 91ms/step - loss: 0.0025 - categorical_accuracy: 0.9983 - val_loss: 0.0994 - val_categorical_accuracy: 0.9833\n",
            "Epoch 74/75\n",
            "1200/1200 [==============================] - 108s 90ms/step - loss: 0.2065 - categorical_accuracy: 0.9433 - val_loss: 16.2471 - val_categorical_accuracy: 0.3100\n",
            "Epoch 75/75\n",
            "1200/1200 [==============================] - 106s 89ms/step - loss: 0.1703 - categorical_accuracy: 0.9567 - val_loss: 49.0008 - val_categorical_accuracy: 0.1033\n"
          ],
          "name": "stdout"
        }
      ]
    },
    {
      "cell_type": "code",
      "metadata": {
        "id": "XS7PsGmmokPO",
        "colab_type": "code",
        "outputId": "90f9d052-7110-4c28-d2fc-a3efb6ee892f",
        "colab": {
          "base_uri": "https://localhost:8080/",
          "height": 545
        }
      },
      "source": [
        "accuracy = mobilenet_history.history['categorical_accuracy']\n",
        "val_accuracy = mobilenet_history.history['val_categorical_accuracy']\n",
        "loss = mobilenet_history.history['loss']\n",
        "val_loss = mobilenet_history.history['val_loss']\n",
        "\n",
        "epochs_x = range(len(accuracy))\n",
        "\n",
        "plt.plot(epochs_x, accuracy, 'b', label='Training acc')\n",
        "plt.plot(epochs_x, val_accuracy, 'r', label='Validation acc')\n",
        "plt.title('Mobilenet V2 Training and validation accuracy')\n",
        "plt.legend()\n",
        "\n",
        "plt.figure()\n",
        "\n",
        "plt.plot(epochs_x, loss, 'b', label='Training loss')\n",
        "plt.plot(epochs_x, val_loss, 'r', label='Validation loss')\n",
        "plt.title('Mobilenet V2 Training and validation loss')\n",
        "plt.legend()\n",
        "\n",
        "plt.show()"
      ],
      "execution_count": 0,
      "outputs": [
        {
          "output_type": "display_data",
          "data": {
            "image/png": "[encoded data removed]",
            "text/plain": [
              "<Figure size 432x288 with 1 Axes>"
            ]
          },
          "metadata": {
            "tags": [],
            "needs_background": "light"
          }
        },
        {
          "output_type": "display_data",
          "data": {
            "image/png": "[encoded data removed]",
            "text/plain": [
              "<Figure size 432x288 with 1 Axes>"
            ]
          },
          "metadata": {
            "tags": [],
            "needs_background": "light"
          }
        }
      ]
    },
    {
      "cell_type": "markdown",
      "metadata": {
        "id": "RJZmRUS6Ofkh",
        "colab_type": "text"
      },
      "source": [
        "##### Transfer Learning, Spatial Dropout Layer"
      ]
    },
    {
      "cell_type": "code",
      "metadata": {
        "id": "rOngTzNdOlDl",
        "colab_type": "code",
        "colab": {}
      },
      "source": [
        "mobilenet_spatial_checkpointer = callbacks.ModelCheckpoint(\"/content/drive/My Drive/Colab Notebooks/258_project_personal/saved_models/mobilenet_spatial_weights.{epoch:02d}.hdf5\",\\\n",
        "                                                      verbose=0, save_best_only=True,)\n",
        "mobilenet_v2_spatial.compile(optimizer = tune_optimizer, loss = tune_loss, metrics = tune_metrics)"
      ],
      "execution_count": 0,
      "outputs": []
    },
    {
      "cell_type": "code",
      "metadata": {
        "id": "dULLZPZCOpNq",
        "colab_type": "code",
        "outputId": "ab45f75f-1cb4-4ca3-d04b-0199323cfc90",
        "colab": {
          "base_uri": "https://localhost:8080/",
          "height": 870
        }
      },
      "source": [
        "mobilenet_spatial_history = mobilenet_v2_spatial.fit(data_train_d,label_train_d, batch_size=32, validation_data=(data_val_d,label_val_d),\\\n",
        "                                                     epochs = tune_epochs, callbacks = [mobilenet_spatial_checkpointer])"
      ],
      "execution_count": 0,
      "outputs": [
        {
          "output_type": "stream",
          "text": [
            "1200/1200 [==============================] - 95s 79ms/step - loss: 1.1520 - categorical_accuracy: 0.6042 - val_loss: 1.1370 - val_categorical_accuracy: 0.6600\n",
            "Epoch 2/25\n",
            "1200/1200 [==============================] - 79s 66ms/step - loss: 0.1483 - categorical_accuracy: 0.9492 - val_loss: 1.1231 - val_categorical_accuracy: 0.6433\n",
            "Epoch 3/25\n",
            "1200/1200 [==============================] - 79s 66ms/step - loss: 0.0719 - categorical_accuracy: 0.9775 - val_loss: 0.9745 - val_categorical_accuracy: 0.6433\n",
            "Epoch 4/25\n",
            "1200/1200 [==============================] - 79s 66ms/step - loss: 0.0358 - categorical_accuracy: 0.9883 - val_loss: 1.2706 - val_categorical_accuracy: 0.6433\n",
            "Epoch 5/25\n",
            "1200/1200 [==============================] - 80s 66ms/step - loss: 0.0326 - categorical_accuracy: 0.9900 - val_loss: 0.9834 - val_categorical_accuracy: 0.7633\n",
            "Epoch 6/25\n",
            "1200/1200 [==============================] - 81s 67ms/step - loss: 0.0323 - categorical_accuracy: 0.9933 - val_loss: 1.5975 - val_categorical_accuracy: 0.6233\n",
            "Epoch 7/25\n",
            "1200/1200 [==============================] - 81s 67ms/step - loss: 0.0114 - categorical_accuracy: 0.9975 - val_loss: 1.1866 - val_categorical_accuracy: 0.6833\n",
            "Epoch 8/25\n",
            "1200/1200 [==============================] - 84s 70ms/step - loss: 0.0174 - categorical_accuracy: 0.9942 - val_loss: 1.0866 - val_categorical_accuracy: 0.7033\n",
            "Epoch 9/25\n",
            "1200/1200 [==============================] - 80s 67ms/step - loss: 0.0457 - categorical_accuracy: 0.9858 - val_loss: 1.2033 - val_categorical_accuracy: 0.6933\n",
            "Epoch 10/25\n",
            "1200/1200 [==============================] - 80s 67ms/step - loss: 0.0292 - categorical_accuracy: 0.9900 - val_loss: 1.6649 - val_categorical_accuracy: 0.7133\n",
            "Epoch 11/25\n",
            "1200/1200 [==============================] - 81s 67ms/step - loss: 0.0158 - categorical_accuracy: 0.9958 - val_loss: 2.3920 - val_categorical_accuracy: 0.5733\n",
            "Epoch 12/25\n",
            "1200/1200 [==============================] - 80s 67ms/step - loss: 0.0216 - categorical_accuracy: 0.9908 - val_loss: 1.4144 - val_categorical_accuracy: 0.7533\n",
            "Epoch 13/25\n",
            "1200/1200 [==============================] - 81s 67ms/step - loss: 0.0419 - categorical_accuracy: 0.9867 - val_loss: 0.3606 - val_categorical_accuracy: 0.9000\n",
            "Epoch 14/25\n",
            "1200/1200 [==============================] - 80s 67ms/step - loss: 0.0245 - categorical_accuracy: 0.9917 - val_loss: 0.9861 - val_categorical_accuracy: 0.7933\n",
            "Epoch 15/25\n",
            "1200/1200 [==============================] - 80s 67ms/step - loss: 0.0105 - categorical_accuracy: 0.9967 - val_loss: 0.2761 - val_categorical_accuracy: 0.9167\n",
            "Epoch 16/25\n",
            "1200/1200 [==============================] - 84s 70ms/step - loss: 0.0091 - categorical_accuracy: 0.9975 - val_loss: 0.4602 - val_categorical_accuracy: 0.8800\n",
            "Epoch 17/25\n",
            "1200/1200 [==============================] - 81s 67ms/step - loss: 0.0242 - categorical_accuracy: 0.9925 - val_loss: 0.9644 - val_categorical_accuracy: 0.7833\n",
            "Epoch 18/25\n",
            "1200/1200 [==============================] - 80s 67ms/step - loss: 0.0278 - categorical_accuracy: 0.9908 - val_loss: 1.8303 - val_categorical_accuracy: 0.6067\n",
            "Epoch 19/25\n",
            "1200/1200 [==============================] - 81s 67ms/step - loss: 0.0326 - categorical_accuracy: 0.9892 - val_loss: 1.1982 - val_categorical_accuracy: 0.7300\n",
            "Epoch 20/25\n",
            "1200/1200 [==============================] - 81s 67ms/step - loss: 0.0466 - categorical_accuracy: 0.9842 - val_loss: 5.1765 - val_categorical_accuracy: 0.3733\n",
            "Epoch 21/25\n",
            "1200/1200 [==============================] - 81s 68ms/step - loss: 0.0221 - categorical_accuracy: 0.9917 - val_loss: 4.9175 - val_categorical_accuracy: 0.4400\n",
            "Epoch 22/25\n",
            "1200/1200 [==============================] - 80s 67ms/step - loss: 0.0273 - categorical_accuracy: 0.9917 - val_loss: 5.0136 - val_categorical_accuracy: 0.4167\n",
            "Epoch 23/25\n",
            "1200/1200 [==============================] - 84s 70ms/step - loss: 0.0198 - categorical_accuracy: 0.9933 - val_loss: 6.0998 - val_categorical_accuracy: 0.3300\n",
            "Epoch 24/25\n",
            "1200/1200 [==============================] - 80s 66ms/step - loss: 0.0134 - categorical_accuracy: 0.9942 - val_loss: 2.3802 - val_categorical_accuracy: 0.6133\n",
            "Epoch 25/25\n",
            "1200/1200 [==============================] - 80s 67ms/step - loss: 0.0500 - categorical_accuracy: 0.9858 - val_loss: 5.0351 - val_categorical_accuracy: 0.5100\n"
          ],
          "name": "stdout"
        }
      ]
    },
    {
      "cell_type": "code",
      "metadata": {
        "id": "FjRlqWTuOtlb",
        "colab_type": "code",
        "outputId": "193befbd-0464-4271-c805-d099b62a53e0",
        "colab": {
          "base_uri": "https://localhost:8080/",
          "height": 545
        }
      },
      "source": [
        "accuracy = mobilenet_spatial_history.history['categorical_accuracy']\n",
        "val_accuracy = mobilenet_spatial_history.history['val_categorical_accuracy']\n",
        "loss = mobilenet_spatial_history.history['loss']\n",
        "val_loss = mobilenet_spatial_history.history['val_loss']\n",
        "\n",
        "epochs_x = range(len(accuracy))\n",
        "\n",
        "plt.plot(epochs_x, accuracy, 'b', label='Training acc')\n",
        "plt.plot(epochs_x, val_accuracy, 'r', label='Validation acc')\n",
        "plt.title('Mobilenet V2 Training and Vvalidation Accuracy with Spatial Dropout')\n",
        "plt.legend()\n",
        "\n",
        "plt.figure()\n",
        "\n",
        "plt.plot(epochs_x, loss, 'b', label='Training loss')\n",
        "plt.plot(epochs_x, val_loss, 'r', label='Validation loss')\n",
        "plt.title('Mobilenet V2 Training and Validation Loss with Spatial Dropout')\n",
        "plt.legend()\n",
        "\n",
        "plt.show()"
      ],
      "execution_count": 0,
      "outputs": [
        {
          "output_type": "display_data",
          "data": {
            "image/png": "[encoded data removed]",
            "text/plain": [
              "<Figure size 432x288 with 1 Axes>"
            ]
          },
          "metadata": {
            "tags": [],
            "needs_background": "light"
          }
        },
        {
          "output_type": "display_data",
          "data": {
            "image/png": "[encoded data removed]",
            "text/plain": [
              "<Figure size 432x288 with 1 Axes>"
            ]
          },
          "metadata": {
            "tags": [],
            "needs_background": "light"
          }
        }
      ]
    },
    {
      "cell_type": "markdown",
      "metadata": {
        "id": "ro0J7XBO38fl",
        "colab_type": "text"
      },
      "source": [
        "### NASNET Performance"
      ]
    },
    {
      "cell_type": "code",
      "metadata": {
        "id": "u0Ac_vDW_h4S",
        "colab_type": "code",
        "colab": {}
      },
      "source": [
        "nasnet_checkpointer = callbacks.ModelCheckpoint(\"/content/drive/My Drive/Colab Notebooks/258_project_personal/saved_models/nasnet_weights.{epoch:02d}.hdf5\",\\\n",
        "                                                      verbose=0, save_best_only=True,)\n",
        "nasnet_mobile.compile(optimizer = tune_optimizer, loss = tune_loss, metrics = tune_metrics)"
      ],
      "execution_count": 0,
      "outputs": []
    },
    {
      "cell_type": "code",
      "metadata": {
        "id": "aVhfYtW54EuE",
        "colab_type": "code",
        "colab": {}
      },
      "source": [
        "nasnet_mobile_history = nasnet_mobile.fit(data_train,label_train, batch_size=32, validation_data=(data_val,label_val),\\\n",
        "                                                     epochs = 10, callbacks = [nasnet_checkpointer])"
      ],
      "execution_count": 0,
      "outputs": []
    },
    {
      "cell_type": "code",
      "metadata": {
        "id": "ttIzmVNf4G4D",
        "colab_type": "code",
        "colab": {}
      },
      "source": [
        "accuracy = nasnet_mobile_history.history['categorical_accuracy']\n",
        "val_accuracy = nasnet_mobile_history.history['val_categorical_accuracy']\n",
        "loss = nasnet_mobile_history.history['loss']\n",
        "val_loss = nasnet_mobile_history.history['val_loss']\n",
        "\n",
        "epochs_x = range(len(accuracy))\n",
        "\n",
        "plt.plot(epochs_x, accuracy, 'b', label='Training acc')\n",
        "plt.plot(epochs_x, val_accuracy, 'r', label='Validation acc')\n",
        "plt.title('NASNET Training and Validation Accuracy')\n",
        "plt.legend()\n",
        "\n",
        "plt.figure()\n",
        "\n",
        "plt.plot(epochs_x, loss, 'b', label='Training loss')\n",
        "plt.plot(epochs_x, val_loss, 'r', label='Validation loss')\n",
        "plt.title('NASNET Training and Validation Loss')\n",
        "plt.legend()\n",
        "\n",
        "plt.show()"
      ],
      "execution_count": 0,
      "outputs": []
    },
    {
      "cell_type": "markdown",
      "metadata": {
        "id": "XoOcwIml2N8x",
        "colab_type": "text"
      },
      "source": [
        "# TFLite conversion"
      ]
    },
    {
      "cell_type": "code",
      "metadata": {
        "id": "-C4az7Dx2RrQ",
        "colab_type": "code",
        "colab": {}
      },
      "source": [
        "import tensorflow as tf\n",
        "from tensorflow import lite"
      ],
      "execution_count": 0,
      "outputs": []
    },
    {
      "cell_type": "code",
      "metadata": {
        "id": "tYuRXT2-Ap5s",
        "colab_type": "code",
        "colab": {}
      },
      "source": [
        "# Load the model\n",
        "mobilenet_keras = tf.keras.models.load_model(\"/content/drive/My Drive/Colab Notebooks/258_project_personal/saved_models/mobilenet_weights.14.hdf5\")"
      ],
      "execution_count": 0,
      "outputs": []
    },
    {
      "cell_type": "code",
      "metadata": {
        "id": "8EFbK-tzBN_z",
        "colab_type": "code",
        "outputId": "88224b77-6188-4f32-e9bb-41ee11a51efe",
        "colab": {
          "base_uri": "https://localhost:8080/",
          "height": 88
        }
      },
      "source": [
        "# Predict on test data\n",
        "loaded_model_prediction = mobilenet_keras.predict_classes(test_data_d)"
      ],
      "execution_count": 0,
      "outputs": [
        {
          "output_type": "stream",
          "text": [
            "WARNING:tensorflow:From <ipython-input-53-c857d4c6ee51>:1: Sequential.predict_classes (from tensorflow.python.keras.engine.sequential) is deprecated and will be removed after 2021-01-01.\n",
            "Instructions for updating:\n",
            "Please use instead:* `np.argmax(model.predict(x), axis=-1)`,   if your model does multi-class classification   (e.g. if it uses a `softmax` last-layer activation).* `(model.predict(x) > 0.5).astype(\"int32\")`,   if your model does binary classification   (e.g. if it uses a `sigmoid` last-layer activation).\n"
          ],
          "name": "stdout"
        }
      ]
    },
    {
      "cell_type": "code",
      "metadata": {
        "id": "4XYCTyi4BcAU",
        "colab_type": "code",
        "outputId": "c54b3e0f-1360-452a-fd27-1ba869d15485",
        "colab": {
          "base_uri": "https://localhost:8080/",
          "height": 285
        }
      },
      "source": [
        "plt.imshow(np.squeeze(test_data_d[258]),cmap='gray')\n",
        "print('Predicted class of test image 258:', loaded_model_prediction[258])"
      ],
      "execution_count": 0,
      "outputs": [
        {
          "output_type": "stream",
          "text": [
            "Predicted class of test image 258: 4\n"
          ],
          "name": "stdout"
        },
        {
          "output_type": "display_data",
          "data": {
            "image/png": "[encoded data removed]",
            "text/plain": [
              "<Figure size 432x288 with 1 Axes>"
            ]
          },
          "metadata": {
            "tags": [],
            "needs_background": "light"
          }
        }
      ]
    },
    {
      "cell_type": "code",
      "metadata": {
        "id": "KwRfoe5jADGh",
        "colab_type": "code",
        "outputId": "80732057-3941-42ee-fb36-9dc547f7e2d4",
        "colab": {
          "base_uri": "https://localhost:8080/",
          "height": 34
        }
      },
      "source": [
        "mobile_to_lite_converter = lite.TFLiteConverter.from_keras_model(mobilenet_keras)\n",
        "mobile_to_lite_converter.optimizations = [lite.Optimize.DEFAULT]\n",
        "mobilenet_tflite = mobile_to_lite_converter.convert()\n",
        "open(\"/content/drive/My Drive/Colab Notebooks/258_project_personal/saved_models/mobilenet.tflite\", \"wb\").write(mobilenet_tflite)"
      ],
      "execution_count": 0,
      "outputs": [
        {
          "output_type": "execute_result",
          "data": {
            "text/plain": [
              "483424"
            ]
          },
          "metadata": {
            "tags": []
          },
          "execution_count": 55
        }
      ]
    },
    {
      "cell_type": "code",
      "metadata": {
        "id": "GI6pDXfbJkFr",
        "colab_type": "code",
        "colab": {}
      },
      "source": [
        ""
      ],
      "execution_count": 0,
      "outputs": []
    }
  ]
}